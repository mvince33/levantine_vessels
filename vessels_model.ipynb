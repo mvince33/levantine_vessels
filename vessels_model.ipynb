{
 "cells": [
  {
   "cell_type": "markdown",
   "id": "f00d37f1",
   "metadata": {
    "heading_collapsed": true
   },
   "source": [
    "# Imports"
   ]
  },
  {
   "cell_type": "code",
   "execution_count": 1,
   "id": "5db82bb0",
   "metadata": {
    "hidden": true
   },
   "outputs": [],
   "source": [
    "# Imports\n",
    "import numpy as np\n",
    "import pandas as pd\n",
    "import json"
   ]
  },
  {
   "cell_type": "markdown",
   "id": "39df9c00",
   "metadata": {
    "heading_collapsed": true
   },
   "source": [
    "# Load the Data"
   ]
  },
  {
   "cell_type": "code",
   "execution_count": 2,
   "id": "c881cfff",
   "metadata": {
    "hidden": true
   },
   "outputs": [
    {
     "data": {
      "text/html": [
       "<div>\n",
       "<style scoped>\n",
       "    .dataframe tbody tr th:only-of-type {\n",
       "        vertical-align: middle;\n",
       "    }\n",
       "\n",
       "    .dataframe tbody tr th {\n",
       "        vertical-align: top;\n",
       "    }\n",
       "\n",
       "    .dataframe thead th {\n",
       "        text-align: right;\n",
       "    }\n",
       "</style>\n",
       "<table border=\"1\" class=\"dataframe\">\n",
       "  <thead>\n",
       "    <tr style=\"text-align: right;\">\n",
       "      <th></th>\n",
       "      <th>id</th>\n",
       "      <th>category</th>\n",
       "      <th>chron</th>\n",
       "      <th>uid</th>\n",
       "      <th>site</th>\n",
       "      <th>site_ref</th>\n",
       "      <th>ware_id</th>\n",
       "      <th>created_at</th>\n",
       "      <th>updated_at</th>\n",
       "      <th>inventory_number</th>\n",
       "      <th>...</th>\n",
       "      <th>diameter_base</th>\n",
       "      <th>estimated_diameter_base</th>\n",
       "      <th>true_diameter_base</th>\n",
       "      <th>slug</th>\n",
       "      <th>acknowledgement</th>\n",
       "      <th>site_id</th>\n",
       "      <th>functional_category_id</th>\n",
       "      <th>old_shape_name</th>\n",
       "      <th>has_petrography</th>\n",
       "      <th>discarded_at</th>\n",
       "    </tr>\n",
       "  </thead>\n",
       "  <tbody>\n",
       "    <tr>\n",
       "      <th>0</th>\n",
       "      <td>7</td>\n",
       "      <td>Pot Pot Pot</td>\n",
       "      <td>5th-4th centuries BCE</td>\n",
       "      <td>LCP-KFNUW</td>\n",
       "      <td>{'id': 1154, 'name': 'Mizpe Yammim', 'chron': ...</td>\n",
       "      <td>None</td>\n",
       "      <td>21.0</td>\n",
       "      <td>2012-09-17T20:25:44.756Z</td>\n",
       "      <td>2022-06-06T06:48:23.688Z</td>\n",
       "      <td>Mizpe Yammim 19/165</td>\n",
       "      <td>...</td>\n",
       "      <td>estimated</td>\n",
       "      <td>11.0</td>\n",
       "      <td>None</td>\n",
       "      <td>mizpe-yammim-19-165</td>\n",
       "      <td></td>\n",
       "      <td>1154.0</td>\n",
       "      <td>8.0</td>\n",
       "      <td>Juglet</td>\n",
       "      <td>False</td>\n",
       "      <td>None</td>\n",
       "    </tr>\n",
       "    <tr>\n",
       "      <th>1</th>\n",
       "      <td>8</td>\n",
       "      <td>Pot</td>\n",
       "      <td>5th-4th century BCE</td>\n",
       "      <td>LCP-VBTDB</td>\n",
       "      <td>{'id': 1154, 'name': 'Mizpe Yammim', 'chron': ...</td>\n",
       "      <td>None</td>\n",
       "      <td>21.0</td>\n",
       "      <td>2012-09-17T20:30:46.389Z</td>\n",
       "      <td>2018-05-22T07:42:14.334Z</td>\n",
       "      <td>Mizpe Yammim 22/452</td>\n",
       "      <td>...</td>\n",
       "      <td>None</td>\n",
       "      <td>0.0</td>\n",
       "      <td>0.0</td>\n",
       "      <td>mizpe-yammim-22-452</td>\n",
       "      <td></td>\n",
       "      <td>1154.0</td>\n",
       "      <td>8.0</td>\n",
       "      <td>Juglet</td>\n",
       "      <td>False</td>\n",
       "      <td>None</td>\n",
       "    </tr>\n",
       "    <tr>\n",
       "      <th>2</th>\n",
       "      <td>9</td>\n",
       "      <td>Pot</td>\n",
       "      <td>5th-4th century BCE</td>\n",
       "      <td>LCP-SBBGA</td>\n",
       "      <td>{'id': 1154, 'name': 'Mizpe Yammim', 'chron': ...</td>\n",
       "      <td>None</td>\n",
       "      <td>21.0</td>\n",
       "      <td>2012-09-17T20:32:02.507Z</td>\n",
       "      <td>2018-03-17T14:10:18.616Z</td>\n",
       "      <td>Mizpe Yammim 8/398</td>\n",
       "      <td>...</td>\n",
       "      <td>None</td>\n",
       "      <td>0.0</td>\n",
       "      <td>0.0</td>\n",
       "      <td>mizpe-yammim-8-398</td>\n",
       "      <td></td>\n",
       "      <td>1154.0</td>\n",
       "      <td>8.0</td>\n",
       "      <td>Juglet</td>\n",
       "      <td>False</td>\n",
       "      <td>None</td>\n",
       "    </tr>\n",
       "    <tr>\n",
       "      <th>3</th>\n",
       "      <td>10</td>\n",
       "      <td>Pot</td>\n",
       "      <td>3rd-mid-2nd c. BCE</td>\n",
       "      <td>LCP-EAWCN</td>\n",
       "      <td>{'id': 1525, 'name': 'Qedesh', 'chron': None, ...</td>\n",
       "      <td>None</td>\n",
       "      <td>28.0</td>\n",
       "      <td>2012-09-17T20:53:53.147Z</td>\n",
       "      <td>2021-12-06T11:10:42.903Z</td>\n",
       "      <td>Qedesh K00P168</td>\n",
       "      <td>...</td>\n",
       "      <td>None</td>\n",
       "      <td>0.0</td>\n",
       "      <td>0.0</td>\n",
       "      <td>qedesh-k00p168</td>\n",
       "      <td></td>\n",
       "      <td>1525.0</td>\n",
       "      <td>1.0</td>\n",
       "      <td>Cooking pot</td>\n",
       "      <td>False</td>\n",
       "      <td>None</td>\n",
       "    </tr>\n",
       "    <tr>\n",
       "      <th>4</th>\n",
       "      <td>11</td>\n",
       "      <td>Pot</td>\n",
       "      <td>2nd c. BCE</td>\n",
       "      <td>LCP-SUNLQ</td>\n",
       "      <td>{'id': 1525, 'name': 'Qedesh', 'chron': None, ...</td>\n",
       "      <td>None</td>\n",
       "      <td>28.0</td>\n",
       "      <td>2012-09-17T20:54:45.445Z</td>\n",
       "      <td>2022-07-15T21:45:23.124Z</td>\n",
       "      <td>Qedesh K00P058</td>\n",
       "      <td>...</td>\n",
       "      <td>None</td>\n",
       "      <td>0.0</td>\n",
       "      <td>0.0</td>\n",
       "      <td>qedesh-k00p058</td>\n",
       "      <td></td>\n",
       "      <td>1525.0</td>\n",
       "      <td>1.0</td>\n",
       "      <td>Casserole/caccabé</td>\n",
       "      <td>False</td>\n",
       "      <td>None</td>\n",
       "    </tr>\n",
       "    <tr>\n",
       "      <th>5</th>\n",
       "      <td>14</td>\n",
       "      <td>Pot</td>\n",
       "      <td>1200BCE - 1150BCE</td>\n",
       "      <td>LCP-USWLF</td>\n",
       "      <td>{'id': 1243, 'name': 'Tel Miqne/Ekron', 'chron...</td>\n",
       "      <td>None</td>\n",
       "      <td>29.0</td>\n",
       "      <td>2012-09-17T21:07:57.254Z</td>\n",
       "      <td>2016-03-15T17:46:30.643Z</td>\n",
       "      <td>Miqne INE.4.392/1</td>\n",
       "      <td>...</td>\n",
       "      <td>None</td>\n",
       "      <td>0.0</td>\n",
       "      <td>0.0</td>\n",
       "      <td>miqne-ine-4-392-1</td>\n",
       "      <td>None</td>\n",
       "      <td>1243.0</td>\n",
       "      <td>10.0</td>\n",
       "      <td>Bowl, large</td>\n",
       "      <td>False</td>\n",
       "      <td>None</td>\n",
       "    </tr>\n",
       "    <tr>\n",
       "      <th>6</th>\n",
       "      <td>16</td>\n",
       "      <td>Pot</td>\n",
       "      <td>300 BCE - 150 BCE</td>\n",
       "      <td>LCP-SPESO</td>\n",
       "      <td>{'id': 1525, 'name': 'Qedesh', 'chron': None, ...</td>\n",
       "      <td>None</td>\n",
       "      <td>494.0</td>\n",
       "      <td>2012-09-17T21:16:02.498Z</td>\n",
       "      <td>2020-03-15T18:05:52.499Z</td>\n",
       "      <td>Qedesh K09P046</td>\n",
       "      <td>...</td>\n",
       "      <td>true</td>\n",
       "      <td>None</td>\n",
       "      <td>5.1</td>\n",
       "      <td>qedesh-k09p046</td>\n",
       "      <td></td>\n",
       "      <td>1525.0</td>\n",
       "      <td>2.0</td>\n",
       "      <td>Saucer</td>\n",
       "      <td>False</td>\n",
       "      <td>None</td>\n",
       "    </tr>\n",
       "    <tr>\n",
       "      <th>7</th>\n",
       "      <td>17</td>\n",
       "      <td>Pot</td>\n",
       "      <td>200 BCE - 140 BCE</td>\n",
       "      <td>LCP-PFGSF</td>\n",
       "      <td>{'id': 1525, 'name': 'Qedesh', 'chron': None, ...</td>\n",
       "      <td>None</td>\n",
       "      <td>127.0</td>\n",
       "      <td>2012-09-17T21:17:15.643Z</td>\n",
       "      <td>2020-03-14T20:17:34.857Z</td>\n",
       "      <td>Qedesh K00P157</td>\n",
       "      <td>...</td>\n",
       "      <td>true</td>\n",
       "      <td>None</td>\n",
       "      <td>7.8</td>\n",
       "      <td>qedesh-k00p157</td>\n",
       "      <td></td>\n",
       "      <td>1525.0</td>\n",
       "      <td>2.0</td>\n",
       "      <td>Plate</td>\n",
       "      <td>False</td>\n",
       "      <td>None</td>\n",
       "    </tr>\n",
       "    <tr>\n",
       "      <th>8</th>\n",
       "      <td>18</td>\n",
       "      <td>Pot</td>\n",
       "      <td>5th-4th c. BCE</td>\n",
       "      <td>LCP-SQPVL</td>\n",
       "      <td>{'id': 1178, 'name': 'Tel Anafa', 'chron': Non...</td>\n",
       "      <td>None</td>\n",
       "      <td>155.0</td>\n",
       "      <td>2012-09-17T21:24:44.936Z</td>\n",
       "      <td>2021-07-25T13:20:02.782Z</td>\n",
       "      <td>Tel Anafa PW 49/TA79P49</td>\n",
       "      <td>...</td>\n",
       "      <td>None</td>\n",
       "      <td>0.0</td>\n",
       "      <td>0.0</td>\n",
       "      <td>tel-anafa-pw-49-ta79p49</td>\n",
       "      <td></td>\n",
       "      <td>1178.0</td>\n",
       "      <td>8.0</td>\n",
       "      <td>Juglet</td>\n",
       "      <td>False</td>\n",
       "      <td>None</td>\n",
       "    </tr>\n",
       "    <tr>\n",
       "      <th>9</th>\n",
       "      <td>19</td>\n",
       "      <td>Pot Pot</td>\n",
       "      <td>5th-4th century BCE</td>\n",
       "      <td>LCP-BCHMS</td>\n",
       "      <td>{'id': 1154, 'name': 'Mizpe Yammim', 'chron': ...</td>\n",
       "      <td>None</td>\n",
       "      <td>74.0</td>\n",
       "      <td>2012-09-17T21:26:15.697Z</td>\n",
       "      <td>2018-03-17T13:52:38.793Z</td>\n",
       "      <td>Mizpe Yammim 15/362</td>\n",
       "      <td>...</td>\n",
       "      <td>None</td>\n",
       "      <td>0.0</td>\n",
       "      <td>0.0</td>\n",
       "      <td>mizpe-yammim-15-362</td>\n",
       "      <td></td>\n",
       "      <td>1154.0</td>\n",
       "      <td>8.0</td>\n",
       "      <td>Juglet</td>\n",
       "      <td>False</td>\n",
       "      <td>None</td>\n",
       "    </tr>\n",
       "    <tr>\n",
       "      <th>10</th>\n",
       "      <td>20</td>\n",
       "      <td>Pot</td>\n",
       "      <td>1800 BCE - 1650 BCE</td>\n",
       "      <td>LCP-EXHKS</td>\n",
       "      <td>{'id': 1256, 'name': 'Tell es-Safi/Gath', 'chr...</td>\n",
       "      <td>None</td>\n",
       "      <td>32.0</td>\n",
       "      <td>2012-09-17T21:30:46.361Z</td>\n",
       "      <td>2018-05-13T09:10:35.623Z</td>\n",
       "      <td>Safi 968052</td>\n",
       "      <td>...</td>\n",
       "      <td>None</td>\n",
       "      <td>0.0</td>\n",
       "      <td>0.0</td>\n",
       "      <td>safi-968052</td>\n",
       "      <td></td>\n",
       "      <td>1256.0</td>\n",
       "      <td>10.0</td>\n",
       "      <td>Jar</td>\n",
       "      <td>False</td>\n",
       "      <td>None</td>\n",
       "    </tr>\n",
       "    <tr>\n",
       "      <th>11</th>\n",
       "      <td>21</td>\n",
       "      <td>Pot</td>\n",
       "      <td>1800 BCE - 1650 BCE</td>\n",
       "      <td>LCP-BPNRF</td>\n",
       "      <td>{'id': 1253, 'name': 'Tel Nagila', 'chron': No...</td>\n",
       "      <td>None</td>\n",
       "      <td>32.0</td>\n",
       "      <td>2012-09-17T21:31:30.728Z</td>\n",
       "      <td>2015-10-26T17:23:02.363Z</td>\n",
       "      <td>Pending2</td>\n",
       "      <td>...</td>\n",
       "      <td>None</td>\n",
       "      <td>0.0</td>\n",
       "      <td>0.0</td>\n",
       "      <td>pending2</td>\n",
       "      <td>None</td>\n",
       "      <td>1253.0</td>\n",
       "      <td>10.0</td>\n",
       "      <td>Jar</td>\n",
       "      <td>False</td>\n",
       "      <td>None</td>\n",
       "    </tr>\n",
       "    <tr>\n",
       "      <th>12</th>\n",
       "      <td>22</td>\n",
       "      <td>Pot</td>\n",
       "      <td>Middle Bronze Age IIA-IIB</td>\n",
       "      <td>LCP-NTYOG</td>\n",
       "      <td>{'id': 1259, 'name': 'Yavneh Yam', 'chron': No...</td>\n",
       "      <td>None</td>\n",
       "      <td>32.0</td>\n",
       "      <td>2012-09-17T21:32:19.962Z</td>\n",
       "      <td>2015-10-19T20:34:01.088Z</td>\n",
       "      <td>Pending3</td>\n",
       "      <td>...</td>\n",
       "      <td>None</td>\n",
       "      <td>0.0</td>\n",
       "      <td>0.0</td>\n",
       "      <td>pending3</td>\n",
       "      <td>None</td>\n",
       "      <td>1259.0</td>\n",
       "      <td>10.0</td>\n",
       "      <td>Jar</td>\n",
       "      <td>False</td>\n",
       "      <td>None</td>\n",
       "    </tr>\n",
       "    <tr>\n",
       "      <th>13</th>\n",
       "      <td>23</td>\n",
       "      <td>Pot</td>\n",
       "      <td>late 2nd c. BCE</td>\n",
       "      <td>LCP-HTPPC</td>\n",
       "      <td>{'id': 1178, 'name': 'Tel Anafa', 'chron': Non...</td>\n",
       "      <td>None</td>\n",
       "      <td>21.0</td>\n",
       "      <td>2012-09-19T17:15:46.827Z</td>\n",
       "      <td>2021-07-25T13:20:14.102Z</td>\n",
       "      <td>Tel Anafa PW 38/TA69P97</td>\n",
       "      <td>...</td>\n",
       "      <td>None</td>\n",
       "      <td>0.0</td>\n",
       "      <td>0.0</td>\n",
       "      <td>tel-anafa-pw-38-ta69p97</td>\n",
       "      <td></td>\n",
       "      <td>1178.0</td>\n",
       "      <td>2.0</td>\n",
       "      <td>Jug</td>\n",
       "      <td>False</td>\n",
       "      <td>None</td>\n",
       "    </tr>\n",
       "    <tr>\n",
       "      <th>14</th>\n",
       "      <td>24</td>\n",
       "      <td>Pot</td>\n",
       "      <td>late 2nd c. BCE</td>\n",
       "      <td>LCP-QUEYS</td>\n",
       "      <td>{'id': 1178, 'name': 'Tel Anafa', 'chron': Non...</td>\n",
       "      <td>None</td>\n",
       "      <td>21.0</td>\n",
       "      <td>2012-09-19T17:17:52.780Z</td>\n",
       "      <td>2021-07-25T13:20:39.216Z</td>\n",
       "      <td>Tel Anafa PW 1/TA68P25</td>\n",
       "      <td>...</td>\n",
       "      <td>None</td>\n",
       "      <td>0.0</td>\n",
       "      <td>0.0</td>\n",
       "      <td>tel-anafa-pw-1-ta68p25</td>\n",
       "      <td></td>\n",
       "      <td>1178.0</td>\n",
       "      <td>2.0</td>\n",
       "      <td>Table Amphora</td>\n",
       "      <td>False</td>\n",
       "      <td>None</td>\n",
       "    </tr>\n",
       "    <tr>\n",
       "      <th>15</th>\n",
       "      <td>25</td>\n",
       "      <td>Pot</td>\n",
       "      <td>late 2nd c. BCE</td>\n",
       "      <td>LCP-RLFWU</td>\n",
       "      <td>{'id': 1178, 'name': 'Tel Anafa', 'chron': Non...</td>\n",
       "      <td>None</td>\n",
       "      <td>21.0</td>\n",
       "      <td>2012-09-19T17:19:44.111Z</td>\n",
       "      <td>2021-07-25T13:20:25.829Z</td>\n",
       "      <td>Tel Anafa PW 24/TA68P202</td>\n",
       "      <td>...</td>\n",
       "      <td>None</td>\n",
       "      <td>0.0</td>\n",
       "      <td>0.0</td>\n",
       "      <td>tel-anafa-pw-24-ta68p202</td>\n",
       "      <td></td>\n",
       "      <td>1178.0</td>\n",
       "      <td>2.0</td>\n",
       "      <td>Lagynos</td>\n",
       "      <td>False</td>\n",
       "      <td>None</td>\n",
       "    </tr>\n",
       "    <tr>\n",
       "      <th>16</th>\n",
       "      <td>26</td>\n",
       "      <td>Pot</td>\n",
       "      <td>2nd century BCE</td>\n",
       "      <td>LCP-MRVXU</td>\n",
       "      <td>{'id': 1178, 'name': 'Tel Anafa', 'chron': Non...</td>\n",
       "      <td>None</td>\n",
       "      <td>21.0</td>\n",
       "      <td>2012-09-19T17:21:45.944Z</td>\n",
       "      <td>2021-07-25T13:19:24.576Z</td>\n",
       "      <td>Tel Anafa PW 96/TA69P84</td>\n",
       "      <td>...</td>\n",
       "      <td>None</td>\n",
       "      <td>0.0</td>\n",
       "      <td>0.0</td>\n",
       "      <td>tel-anafa-pw-96-ta69p84</td>\n",
       "      <td></td>\n",
       "      <td>1178.0</td>\n",
       "      <td>8.0</td>\n",
       "      <td>Unguentarium</td>\n",
       "      <td>False</td>\n",
       "      <td>None</td>\n",
       "    </tr>\n",
       "    <tr>\n",
       "      <th>17</th>\n",
       "      <td>27</td>\n",
       "      <td>Pot</td>\n",
       "      <td>c. 125 BCE - 75 BCE</td>\n",
       "      <td>LCP-FUVLR</td>\n",
       "      <td>{'id': 1178, 'name': 'Tel Anafa', 'chron': Non...</td>\n",
       "      <td>None</td>\n",
       "      <td>21.0</td>\n",
       "      <td>2012-09-19T17:23:11.918Z</td>\n",
       "      <td>2021-07-25T13:19:34.182Z</td>\n",
       "      <td>Tel Anafa PW 70/TA68P19</td>\n",
       "      <td>...</td>\n",
       "      <td>None</td>\n",
       "      <td>0.0</td>\n",
       "      <td>0.0</td>\n",
       "      <td>tel-anafa-pw-70-ta68p19</td>\n",
       "      <td></td>\n",
       "      <td>1178.0</td>\n",
       "      <td>7.0</td>\n",
       "      <td>Amphoriskos</td>\n",
       "      <td>False</td>\n",
       "      <td>None</td>\n",
       "    </tr>\n",
       "    <tr>\n",
       "      <th>18</th>\n",
       "      <td>28</td>\n",
       "      <td>Pot</td>\n",
       "      <td>1099 CE - 1291 CE</td>\n",
       "      <td>LCP-DLJQO</td>\n",
       "      <td>{'id': 1224, 'name': ''Akko/Acre', 'chron': No...</td>\n",
       "      <td>None</td>\n",
       "      <td>37.0</td>\n",
       "      <td>2012-09-20T15:37:25.018Z</td>\n",
       "      <td>2020-03-25T18:51:00.435Z</td>\n",
       "      <td>'Akko HC 160498/3</td>\n",
       "      <td>...</td>\n",
       "      <td>None</td>\n",
       "      <td>0.0</td>\n",
       "      <td>0.0</td>\n",
       "      <td>akko-hc-160498-3</td>\n",
       "      <td></td>\n",
       "      <td>1224.0</td>\n",
       "      <td>1.0</td>\n",
       "      <td>Bowl</td>\n",
       "      <td>False</td>\n",
       "      <td>None</td>\n",
       "    </tr>\n",
       "    <tr>\n",
       "      <th>19</th>\n",
       "      <td>29</td>\n",
       "      <td>Pot</td>\n",
       "      <td>1099 CE - 1291 CE</td>\n",
       "      <td>LCP-TBQQP</td>\n",
       "      <td>{'id': 1224, 'name': ''Akko/Acre', 'chron': No...</td>\n",
       "      <td>None</td>\n",
       "      <td>37.0</td>\n",
       "      <td>2012-09-20T15:39:40.310Z</td>\n",
       "      <td>2020-03-25T18:50:19.865Z</td>\n",
       "      <td>'Akko HC 120551/1</td>\n",
       "      <td>...</td>\n",
       "      <td>None</td>\n",
       "      <td>0.0</td>\n",
       "      <td>0.0</td>\n",
       "      <td>akko-hc-120551-1</td>\n",
       "      <td></td>\n",
       "      <td>1224.0</td>\n",
       "      <td>1.0</td>\n",
       "      <td>Bowl</td>\n",
       "      <td>False</td>\n",
       "      <td>None</td>\n",
       "    </tr>\n",
       "  </tbody>\n",
       "</table>\n",
       "<p>20 rows × 52 columns</p>\n",
       "</div>"
      ],
      "text/plain": [
       "    id     category                      chron        uid  \\\n",
       "0    7  Pot Pot Pot      5th-4th centuries BCE  LCP-KFNUW   \n",
       "1    8          Pot        5th-4th century BCE  LCP-VBTDB   \n",
       "2    9          Pot        5th-4th century BCE  LCP-SBBGA   \n",
       "3   10          Pot         3rd-mid-2nd c. BCE  LCP-EAWCN   \n",
       "4   11          Pot                 2nd c. BCE  LCP-SUNLQ   \n",
       "5   14          Pot          1200BCE - 1150BCE  LCP-USWLF   \n",
       "6   16          Pot          300 BCE - 150 BCE  LCP-SPESO   \n",
       "7   17          Pot          200 BCE - 140 BCE  LCP-PFGSF   \n",
       "8   18          Pot             5th-4th c. BCE  LCP-SQPVL   \n",
       "9   19      Pot Pot        5th-4th century BCE  LCP-BCHMS   \n",
       "10  20          Pot        1800 BCE - 1650 BCE  LCP-EXHKS   \n",
       "11  21          Pot        1800 BCE - 1650 BCE  LCP-BPNRF   \n",
       "12  22          Pot  Middle Bronze Age IIA-IIB  LCP-NTYOG   \n",
       "13  23          Pot            late 2nd c. BCE  LCP-HTPPC   \n",
       "14  24          Pot            late 2nd c. BCE  LCP-QUEYS   \n",
       "15  25          Pot            late 2nd c. BCE  LCP-RLFWU   \n",
       "16  26          Pot            2nd century BCE  LCP-MRVXU   \n",
       "17  27          Pot        c. 125 BCE - 75 BCE  LCP-FUVLR   \n",
       "18  28          Pot          1099 CE - 1291 CE  LCP-DLJQO   \n",
       "19  29          Pot          1099 CE - 1291 CE  LCP-TBQQP   \n",
       "\n",
       "                                                 site site_ref  ware_id  \\\n",
       "0   {'id': 1154, 'name': 'Mizpe Yammim', 'chron': ...     None     21.0   \n",
       "1   {'id': 1154, 'name': 'Mizpe Yammim', 'chron': ...     None     21.0   \n",
       "2   {'id': 1154, 'name': 'Mizpe Yammim', 'chron': ...     None     21.0   \n",
       "3   {'id': 1525, 'name': 'Qedesh', 'chron': None, ...     None     28.0   \n",
       "4   {'id': 1525, 'name': 'Qedesh', 'chron': None, ...     None     28.0   \n",
       "5   {'id': 1243, 'name': 'Tel Miqne/Ekron', 'chron...     None     29.0   \n",
       "6   {'id': 1525, 'name': 'Qedesh', 'chron': None, ...     None    494.0   \n",
       "7   {'id': 1525, 'name': 'Qedesh', 'chron': None, ...     None    127.0   \n",
       "8   {'id': 1178, 'name': 'Tel Anafa', 'chron': Non...     None    155.0   \n",
       "9   {'id': 1154, 'name': 'Mizpe Yammim', 'chron': ...     None     74.0   \n",
       "10  {'id': 1256, 'name': 'Tell es-Safi/Gath', 'chr...     None     32.0   \n",
       "11  {'id': 1253, 'name': 'Tel Nagila', 'chron': No...     None     32.0   \n",
       "12  {'id': 1259, 'name': 'Yavneh Yam', 'chron': No...     None     32.0   \n",
       "13  {'id': 1178, 'name': 'Tel Anafa', 'chron': Non...     None     21.0   \n",
       "14  {'id': 1178, 'name': 'Tel Anafa', 'chron': Non...     None     21.0   \n",
       "15  {'id': 1178, 'name': 'Tel Anafa', 'chron': Non...     None     21.0   \n",
       "16  {'id': 1178, 'name': 'Tel Anafa', 'chron': Non...     None     21.0   \n",
       "17  {'id': 1178, 'name': 'Tel Anafa', 'chron': Non...     None     21.0   \n",
       "18  {'id': 1224, 'name': ''Akko/Acre', 'chron': No...     None     37.0   \n",
       "19  {'id': 1224, 'name': ''Akko/Acre', 'chron': No...     None     37.0   \n",
       "\n",
       "                  created_at                updated_at  \\\n",
       "0   2012-09-17T20:25:44.756Z  2022-06-06T06:48:23.688Z   \n",
       "1   2012-09-17T20:30:46.389Z  2018-05-22T07:42:14.334Z   \n",
       "2   2012-09-17T20:32:02.507Z  2018-03-17T14:10:18.616Z   \n",
       "3   2012-09-17T20:53:53.147Z  2021-12-06T11:10:42.903Z   \n",
       "4   2012-09-17T20:54:45.445Z  2022-07-15T21:45:23.124Z   \n",
       "5   2012-09-17T21:07:57.254Z  2016-03-15T17:46:30.643Z   \n",
       "6   2012-09-17T21:16:02.498Z  2020-03-15T18:05:52.499Z   \n",
       "7   2012-09-17T21:17:15.643Z  2020-03-14T20:17:34.857Z   \n",
       "8   2012-09-17T21:24:44.936Z  2021-07-25T13:20:02.782Z   \n",
       "9   2012-09-17T21:26:15.697Z  2018-03-17T13:52:38.793Z   \n",
       "10  2012-09-17T21:30:46.361Z  2018-05-13T09:10:35.623Z   \n",
       "11  2012-09-17T21:31:30.728Z  2015-10-26T17:23:02.363Z   \n",
       "12  2012-09-17T21:32:19.962Z  2015-10-19T20:34:01.088Z   \n",
       "13  2012-09-19T17:15:46.827Z  2021-07-25T13:20:14.102Z   \n",
       "14  2012-09-19T17:17:52.780Z  2021-07-25T13:20:39.216Z   \n",
       "15  2012-09-19T17:19:44.111Z  2021-07-25T13:20:25.829Z   \n",
       "16  2012-09-19T17:21:45.944Z  2021-07-25T13:19:24.576Z   \n",
       "17  2012-09-19T17:23:11.918Z  2021-07-25T13:19:34.182Z   \n",
       "18  2012-09-20T15:37:25.018Z  2020-03-25T18:51:00.435Z   \n",
       "19  2012-09-20T15:39:40.310Z  2020-03-25T18:50:19.865Z   \n",
       "\n",
       "            inventory_number  ...  diameter_base estimated_diameter_base  \\\n",
       "0        Mizpe Yammim 19/165  ...      estimated                    11.0   \n",
       "1        Mizpe Yammim 22/452  ...           None                     0.0   \n",
       "2         Mizpe Yammim 8/398  ...           None                     0.0   \n",
       "3             Qedesh K00P168  ...           None                     0.0   \n",
       "4             Qedesh K00P058  ...           None                     0.0   \n",
       "5          Miqne INE.4.392/1  ...           None                     0.0   \n",
       "6             Qedesh K09P046  ...           true                    None   \n",
       "7             Qedesh K00P157  ...           true                    None   \n",
       "8    Tel Anafa PW 49/TA79P49  ...           None                     0.0   \n",
       "9        Mizpe Yammim 15/362  ...           None                     0.0   \n",
       "10               Safi 968052  ...           None                     0.0   \n",
       "11                  Pending2  ...           None                     0.0   \n",
       "12                  Pending3  ...           None                     0.0   \n",
       "13   Tel Anafa PW 38/TA69P97  ...           None                     0.0   \n",
       "14    Tel Anafa PW 1/TA68P25  ...           None                     0.0   \n",
       "15  Tel Anafa PW 24/TA68P202  ...           None                     0.0   \n",
       "16   Tel Anafa PW 96/TA69P84  ...           None                     0.0   \n",
       "17   Tel Anafa PW 70/TA68P19  ...           None                     0.0   \n",
       "18         'Akko HC 160498/3  ...           None                     0.0   \n",
       "19         'Akko HC 120551/1  ...           None                     0.0   \n",
       "\n",
       "   true_diameter_base                      slug acknowledgement  site_id  \\\n",
       "0                None       mizpe-yammim-19-165                   1154.0   \n",
       "1                 0.0       mizpe-yammim-22-452                   1154.0   \n",
       "2                 0.0        mizpe-yammim-8-398                   1154.0   \n",
       "3                 0.0            qedesh-k00p168                   1525.0   \n",
       "4                 0.0            qedesh-k00p058                   1525.0   \n",
       "5                 0.0         miqne-ine-4-392-1            None   1243.0   \n",
       "6                 5.1            qedesh-k09p046                   1525.0   \n",
       "7                 7.8            qedesh-k00p157                   1525.0   \n",
       "8                 0.0   tel-anafa-pw-49-ta79p49                   1178.0   \n",
       "9                 0.0       mizpe-yammim-15-362                   1154.0   \n",
       "10                0.0               safi-968052                   1256.0   \n",
       "11                0.0                  pending2            None   1253.0   \n",
       "12                0.0                  pending3            None   1259.0   \n",
       "13                0.0   tel-anafa-pw-38-ta69p97                   1178.0   \n",
       "14                0.0    tel-anafa-pw-1-ta68p25                   1178.0   \n",
       "15                0.0  tel-anafa-pw-24-ta68p202                   1178.0   \n",
       "16                0.0   tel-anafa-pw-96-ta69p84                   1178.0   \n",
       "17                0.0   tel-anafa-pw-70-ta68p19                   1178.0   \n",
       "18                0.0          akko-hc-160498-3                   1224.0   \n",
       "19                0.0          akko-hc-120551-1                   1224.0   \n",
       "\n",
       "    functional_category_id     old_shape_name has_petrography discarded_at  \n",
       "0                      8.0             Juglet           False         None  \n",
       "1                      8.0             Juglet           False         None  \n",
       "2                      8.0             Juglet           False         None  \n",
       "3                      1.0        Cooking pot           False         None  \n",
       "4                      1.0  Casserole/caccabé           False         None  \n",
       "5                     10.0        Bowl, large           False         None  \n",
       "6                      2.0             Saucer           False         None  \n",
       "7                      2.0              Plate           False         None  \n",
       "8                      8.0             Juglet           False         None  \n",
       "9                      8.0             Juglet           False         None  \n",
       "10                    10.0                Jar           False         None  \n",
       "11                    10.0                Jar           False         None  \n",
       "12                    10.0                Jar           False         None  \n",
       "13                     2.0                Jug           False         None  \n",
       "14                     2.0      Table Amphora           False         None  \n",
       "15                     2.0            Lagynos           False         None  \n",
       "16                     8.0       Unguentarium           False         None  \n",
       "17                     7.0        Amphoriskos           False         None  \n",
       "18                     1.0               Bowl           False         None  \n",
       "19                     1.0               Bowl           False         None  \n",
       "\n",
       "[20 rows x 52 columns]"
      ]
     },
     "execution_count": 2,
     "metadata": {},
     "output_type": "execute_result"
    }
   ],
   "source": [
    "# Load the vessels data\n",
    "with open('../lcp_data/vessels.json') as file:\n",
    "    df = pd.DataFrame(json.load(file))\n",
    "df.head(20)"
   ]
  },
  {
   "cell_type": "markdown",
   "id": "0ea3210f",
   "metadata": {},
   "source": [
    "# Data Cleaning"
   ]
  },
  {
   "cell_type": "code",
   "execution_count": 3,
   "id": "eb51f036",
   "metadata": {},
   "outputs": [
    {
     "name": "stdout",
     "output_type": "stream",
     "text": [
      "<class 'pandas.core.frame.DataFrame'>\n",
      "RangeIndex: 16717 entries, 0 to 16716\n",
      "Data columns (total 52 columns):\n",
      " #   Column                   Non-Null Count  Dtype  \n",
      "---  ------                   --------------  -----  \n",
      " 0   id                       16717 non-null  int64  \n",
      " 1   category                 560 non-null    object \n",
      " 2   chron                    13837 non-null  object \n",
      " 3   uid                      560 non-null    object \n",
      " 4   site                     16699 non-null  object \n",
      " 5   site_ref                 0 non-null      object \n",
      " 6   ware_id                  9303 non-null   float64\n",
      " 7   created_at               16717 non-null  object \n",
      " 8   updated_at               16717 non-null  object \n",
      " 9   inventory_number         16717 non-null  object \n",
      " 10  shape_id                 15638 non-null  float64\n",
      " 11  funct_cat                7631 non-null   object \n",
      " 12  shape_sub_group          13389 non-null  object \n",
      " 13  shape_rtype              13391 non-null  object \n",
      " 14  shape_sub_type           560 non-null    object \n",
      " 15  user_id                  16666 non-null  float64\n",
      " 16  old_region_id            255 non-null    float64\n",
      " 17  pub_ref                  560 non-null    object \n",
      " 18  color                    13911 non-null  object \n",
      " 19  firing                   13548 non-null  object \n",
      " 20  surface_treatment        13919 non-null  object \n",
      " 21  manu_tech                16717 non-null  object \n",
      " 22  arch_context             13990 non-null  object \n",
      " 23  privacy_status           16717 non-null  int64  \n",
      " 24  site_type                13999 non-null  object \n",
      " 25  period                   8390 non-null   object \n",
      " 26  ware_visual_desc         96 non-null     object \n",
      " 27  petrofab_visual_desc     9376 non-null   object \n",
      " 28  petrofabric_id           5073 non-null   float64\n",
      " 29  start_year               10728 non-null  float64\n",
      " 30  end_year                 10728 non-null  float64\n",
      " 31  references_data          5573 non-null   object \n",
      " 32  thickness                16706 non-null  object \n",
      " 33  height                   3882 non-null   object \n",
      " 34  preserved_height         15598 non-null  object \n",
      " 35  true_height              13933 non-null  object \n",
      " 36  diameter_rim             4388 non-null   object \n",
      " 37  estimated_diameter_rim   13233 non-null  object \n",
      " 38  true_diameter_rim        15786 non-null  object \n",
      " 39  max_diameter             9553 non-null   object \n",
      " 40  estimated_max_diameter   16626 non-null  object \n",
      " 41  true_max_diameter        16591 non-null  object \n",
      " 42  diameter_base            1289 non-null   object \n",
      " 43  estimated_diameter_base  15588 non-null  object \n",
      " 44  true_diameter_base       16546 non-null  object \n",
      " 45  slug                     16717 non-null  object \n",
      " 46  acknowledgement          11910 non-null  object \n",
      " 47  site_id                  16699 non-null  float64\n",
      " 48  functional_category_id   13138 non-null  float64\n",
      " 49  old_shape_name           8034 non-null   object \n",
      " 50  has_petrography          16717 non-null  bool   \n",
      " 51  discarded_at             0 non-null      object \n",
      "dtypes: bool(1), float64(9), int64(2), object(40)\n",
      "memory usage: 6.5+ MB\n"
     ]
    }
   ],
   "source": [
    "# Call info\n",
    "df.info()"
   ]
  },
  {
   "cell_type": "code",
   "execution_count": 4,
   "id": "1dc05379",
   "metadata": {},
   "outputs": [],
   "source": [
    "# Look for nearly empty columns\n",
    "filter = (df.isna().sum() / df.shape[0] > 0.95)\n",
    "cols = df.loc[:, filter.values].columns\n",
    "df.drop(columns = cols, inplace = True)"
   ]
  },
  {
   "cell_type": "code",
   "execution_count": 5,
   "id": "cffeffac",
   "metadata": {},
   "outputs": [],
   "source": [
    "# We won't use any ids for modelling.\n",
    "df.drop(columns = ['ware_id', \n",
    "                   'shape_id', \n",
    "                   'user_id',\n",
    "                   'petrofabric_id',\n",
    "                   'site_id',\n",
    "                   'functional_category_id'],\n",
    "        inplace = True)"
   ]
  },
  {
   "cell_type": "code",
   "execution_count": 6,
   "id": "704c721b",
   "metadata": {},
   "outputs": [],
   "source": [
    "# Remove some more columns unneccesary for modeling.\n",
    "df.drop(columns = ['created_at',\n",
    "                   'updated_at',\n",
    "                   'inventory_number'],\n",
    "        inplace = True)"
   ]
  },
  {
   "cell_type": "markdown",
   "id": "f7437dba",
   "metadata": {},
   "source": [
    "## Label cleaning"
   ]
  },
  {
   "cell_type": "code",
   "execution_count": 7,
   "id": "18e793a1",
   "metadata": {},
   "outputs": [],
   "source": [
    "# Make a list of columns we decide to drop after closer inspection\n",
    "cols_to_drop = []"
   ]
  },
  {
   "cell_type": "code",
   "execution_count": 8,
   "id": "3d1a3afb",
   "metadata": {},
   "outputs": [
    {
     "name": "stdout",
     "output_type": "stream",
     "text": [
      "<class 'pandas.core.frame.DataFrame'>\n",
      "RangeIndex: 16717 entries, 0 to 16716\n",
      "Data columns (total 35 columns):\n",
      " #   Column                   Non-Null Count  Dtype  \n",
      "---  ------                   --------------  -----  \n",
      " 0   id                       16717 non-null  int64  \n",
      " 1   chron                    13837 non-null  object \n",
      " 2   site                     16699 non-null  object \n",
      " 3   funct_cat                7631 non-null   object \n",
      " 4   shape_sub_group          13389 non-null  object \n",
      " 5   shape_rtype              13391 non-null  object \n",
      " 6   color                    13911 non-null  object \n",
      " 7   firing                   13548 non-null  object \n",
      " 8   surface_treatment        13919 non-null  object \n",
      " 9   manu_tech                16717 non-null  object \n",
      " 10  arch_context             13990 non-null  object \n",
      " 11  privacy_status           16717 non-null  int64  \n",
      " 12  site_type                13999 non-null  object \n",
      " 13  period                   8390 non-null   object \n",
      " 14  petrofab_visual_desc     9376 non-null   object \n",
      " 15  start_year               10728 non-null  float64\n",
      " 16  end_year                 10728 non-null  float64\n",
      " 17  references_data          5573 non-null   object \n",
      " 18  thickness                16706 non-null  object \n",
      " 19  height                   3882 non-null   object \n",
      " 20  preserved_height         15598 non-null  object \n",
      " 21  true_height              13933 non-null  object \n",
      " 22  diameter_rim             4388 non-null   object \n",
      " 23  estimated_diameter_rim   13233 non-null  object \n",
      " 24  true_diameter_rim        15786 non-null  object \n",
      " 25  max_diameter             9553 non-null   object \n",
      " 26  estimated_max_diameter   16626 non-null  object \n",
      " 27  true_max_diameter        16591 non-null  object \n",
      " 28  diameter_base            1289 non-null   object \n",
      " 29  estimated_diameter_base  15588 non-null  object \n",
      " 30  true_diameter_base       16546 non-null  object \n",
      " 31  slug                     16717 non-null  object \n",
      " 32  acknowledgement          11910 non-null  object \n",
      " 33  old_shape_name           8034 non-null   object \n",
      " 34  has_petrography          16717 non-null  bool   \n",
      "dtypes: bool(1), float64(2), int64(2), object(30)\n",
      "memory usage: 4.4+ MB\n"
     ]
    }
   ],
   "source": [
    "df.info()"
   ]
  },
  {
   "cell_type": "markdown",
   "id": "a5101c78",
   "metadata": {
    "heading_collapsed": true
   },
   "source": [
    "### Clean the 'funct_cat' column"
   ]
  },
  {
   "cell_type": "code",
   "execution_count": 9,
   "id": "8096dafe",
   "metadata": {
    "hidden": true
   },
   "outputs": [
    {
     "data": {
      "text/plain": [
       "                                    1655\n",
       "Dining/Drinking/Serving             1630\n",
       "Household/Utility                   1521\n",
       "Transport/Storage                   1005\n",
       "Cooking/Kitchen                      727\n",
       "Household/Storage                    485\n",
       "Table ware                            83\n",
       "Lighting                              83\n",
       "Food production                       80\n",
       "Cosmetic/Toilette/Medicine            67\n",
       "Smoking                               48\n",
       "Cooking/Kitchen, Food production      46\n",
       "Cooking                               39\n",
       "Dining/Serving                        31\n",
       "Ceramic Production                    23\n",
       "Agriculture                           13\n",
       "Transport, storage                     9\n",
       "Food production/service                9\n",
       "cooking wares                          8\n",
       "food/drink service                     8\n",
       "sugar production                       7\n",
       "Transport/Stroage                      7\n",
       "Burial                                 5\n",
       "food service                           5\n",
       " Cooking                               4\n",
       "Ritual                                 3\n",
       "drinking vessel                        3\n",
       "Building material                      3\n",
       "Tableware                              2\n",
       "cooking                                2\n",
       "Table                                  2\n",
       "brick                                  2\n",
       "lamp                                   2\n",
       "Water jug                              2\n",
       "perfume vessels                        1\n",
       "table ware                             1\n",
       "Fine ware                              1\n",
       "Waster                                 1\n",
       "Figurine                               1\n",
       "to drink                               1\n",
       "Container                              1\n",
       "lighting                               1\n",
       " cooking                               1\n",
       "Ritual, Toy                            1\n",
       " food/drink service                    1\n",
       "Miniature                              1\n",
       "Name: funct_cat, dtype: int64"
      ]
     },
     "execution_count": 9,
     "metadata": {},
     "output_type": "execute_result"
    }
   ],
   "source": [
    "# Clean the 'funct_cat' column.\n",
    "df['funct_cat'].value_counts()"
   ]
  },
  {
   "cell_type": "code",
   "execution_count": 10,
   "id": "3bc3dd67",
   "metadata": {
    "hidden": true
   },
   "outputs": [
    {
     "data": {
      "text/plain": [
       "Household/Utility             2097\n",
       "Dining/Drinking/Serving       1760\n",
       "                              1655\n",
       "Transport/Storage             1021\n",
       "Cooking/Kitchen                923\n",
       "Cosmetic/Toilette/Medicine      68\n",
       "Smoking                         48\n",
       "Ceramic Production              23\n",
       "Agriculture                     13\n",
       "Burial                           5\n",
       "Building material                5\n",
       "Dining/Drinking/Service          5\n",
       "Ritual                           3\n",
       "Ritual, Toy                      1\n",
       "lighting                         1\n",
       "Storage                          1\n",
       "Figurine                         1\n",
       "Miniature                        1\n",
       "Name: funct_cat, dtype: int64"
      ]
     },
     "execution_count": 10,
     "metadata": {},
     "output_type": "execute_result"
    }
   ],
   "source": [
    "df['funct_cat'].replace({'Household/Storage': 'Household/Utility',\n",
    "                         'Table ware': 'Dining/Drinking/Serving',\n",
    "                         'Food production': 'Cooking/Kitchen',\n",
    "                         'Cooking/Kitchen, Food production': 'Cooking/Kitchen',\n",
    "                         'Cooking': 'Cooking/Kitchen',\n",
    "                         'Transport, storage': 'Transport/Storage',\n",
    "                         'Dining/Serving': 'Dining/Drinking/Serving',\n",
    "                         'Food production/service': 'Cooking/Kitchen',\n",
    "                         'food/drink service': 'Dining/Drinking/Serving',\n",
    "                         'cooking wares': 'Cooking/Kitchen',\n",
    "                         'food service': 'Dining/Drinking/Service',\n",
    "                         ' Cooking': 'Cooking/Kitchen',\n",
    "                         'sugar production': 'Cooking/Kitchen',\n",
    "                         'drinking vessel': 'Dining/Drinking/Serving',\n",
    "                         ' food/drink service': 'Dining/Drinking/Serving',\n",
    "                         ' cooking': 'Cooking/Kitchen',\n",
    "                         'to drink': 'Dining/Drinking/Serving',\n",
    "                         'cooking': 'Cooking/Kitchen',\n",
    "                         'Water jug': 'Dining/Drinking/Serving',\n",
    "                         'Waster': 'Dining/Drinking/Serving',\n",
    "                         'Dining/Drinking/Service': 'Dining/Drinking/Serving',\n",
    "                         'Table': 'Household/Utility',\n",
    "                         'Tableware': 'Household/Utility',\n",
    "                         'Fine ware': 'Household/Utility',\n",
    "                         'table ware': 'Household/Utility',\n",
    "                         'brick': 'Building material',\n",
    "                         'Container': 'Storage',\n",
    "                         'perfume vessels': 'Cosmetic/Toilette/Medicine',\n",
    "                         'Transport/Stroage': 'Transport/Storage',\n",
    "                         'Lighting': 'Household/Utility',\n",
    "                         'lamp': 'Household/Utility',\n",
    "                         'lighting': 'Household/Utility',\n",
    "                         'Storage': 'Household/Utility'}).value_counts()"
   ]
  },
  {
   "cell_type": "markdown",
   "id": "d6a91711",
   "metadata": {
    "hidden": true
   },
   "source": [
    "> There is still work to be done on this feature. I'm having issues dealing with some of the remaining labels. For example, I'm not able to change the label 'Dining/Drinking/Service.' Not sure why."
   ]
  },
  {
   "cell_type": "markdown",
   "id": "a023a7a0",
   "metadata": {
    "heading_collapsed": true
   },
   "source": [
    "### Clean the shape_sub_group column"
   ]
  },
  {
   "cell_type": "code",
   "execution_count": 11,
   "id": "180fd9f9",
   "metadata": {
    "hidden": true
   },
   "outputs": [
    {
     "data": {
      "text/plain": [
       "                                                             12501\n",
       "Marine Transport Containers                                    187\n",
       "Milkbowl                                                        18\n",
       "Black polished bowl with graffito                               14\n",
       "Bowl                                                            13\n",
       "tableware                                                       12\n",
       "Beirut 3                                                        11\n",
       "Low-necked jar                                                  10\n",
       "Gray wide-mouthed storage jar                                    9\n",
       "Thickened rim saucer                                             8\n",
       "Phoenician Amphora                                               8\n",
       "cooking-pot                                                      6\n",
       "Jar                                                              5\n",
       "Base of black polished bowl with graffito                        5\n",
       "Black polished bowl                                              5\n",
       "amphora without neck                                             5\n",
       "closed vessel                                                    5\n",
       "Everted rim                                                      5\n",
       " cooking                                                         4\n",
       "bowl                                                             4\n",
       "cooking                                                          4\n",
       "incurved rim bowl                                                4\n",
       "cooking                                                          4\n",
       "Galilean                                                         4\n",
       "Late Roman amphora 4                                             4\n",
       "Local banded lydion                                              4\n",
       "Late Roman Amphora 5                                             4\n",
       "Late Roman Amphora 4                                             4\n",
       "Cooking pot                                                      4\n",
       "Black polished side-spouted sieve jug with diamond facets        3\n",
       "Name: shape_sub_group, dtype: int64"
      ]
     },
     "execution_count": 11,
     "metadata": {},
     "output_type": "execute_result"
    }
   ],
   "source": [
    "# Get the labels\n",
    "df['shape_sub_group'].value_counts().head(30)"
   ]
  },
  {
   "cell_type": "markdown",
   "id": "00ec7b22",
   "metadata": {
    "hidden": true
   },
   "source": [
    "> Probably not worth using this feature for modeling."
   ]
  },
  {
   "cell_type": "code",
   "execution_count": 12,
   "id": "f025adce",
   "metadata": {
    "hidden": true
   },
   "outputs": [
    {
     "data": {
      "text/plain": [
       "['shape_sub_group']"
      ]
     },
     "execution_count": 12,
     "metadata": {},
     "output_type": "execute_result"
    }
   ],
   "source": [
    "# Add shape_sub_group to the list of columns to drop.\n",
    "cols_to_drop.append('shape_sub_group')\n",
    "cols_to_drop"
   ]
  },
  {
   "cell_type": "markdown",
   "id": "b888ba8b",
   "metadata": {
    "heading_collapsed": true
   },
   "source": [
    "### Clean the shape_rtype column"
   ]
  },
  {
   "cell_type": "code",
   "execution_count": 13,
   "id": "d8eb6097",
   "metadata": {
    "hidden": true
   },
   "outputs": [
    {
     "data": {
      "text/plain": [
       "                                                                                      6943\n",
       "Closed                                                                                 193\n",
       "Closed Shape                                                                           192\n",
       "Carinated Shoulder Amphorae                                                            188\n",
       "Open                                                                                   175\n",
       "Open Shape                                                                             168\n",
       "LH Jiyeh Type 1                                                                         55\n",
       "open                                                                                    51\n",
       "Incurved rim                                                                            44\n",
       "LH Jiyeh Type 2                                                                         35\n",
       "Type M3a: thickened rim, bag-shaped body (Rohmer 2020, Type M3a, fig. 1.1, p. 43).      35\n",
       "Ledge rim                                                                               32\n",
       "Holemouth                                                                               31\n",
       "Cup with rounded wall                                                                   29\n",
       "Type M2a: long lip and fine (Rohmer 2020, Type M2a, fig. 1.1, p. 43)                    27\n",
       "Deckel Typ 1 (Rembart 2018)                                                             21\n",
       "Teller 10.1 (Katzjäger 2017)                                                            21\n",
       "White Slip II                                                                           19\n",
       "Schale Typ 1 (Rembart 2018)                                                             19\n",
       "folded rim                                                                              18\n",
       "closed                                                                                  18\n",
       "Deckel 1.1 (Katzjäger 2017)                                                             18\n",
       "Stemmed Dish                                                                            18\n",
       "spouted                                                                                 17\n",
       "Type M2b: wide mouth (Rohmer 2020, Type M2b, fig. 1.1, p. 43)                           17\n",
       "angled rim                                                                              17\n",
       "Teller Typ 10 (Rembart 2018)                                                            16\n",
       "rolled rim                                                                              16\n",
       "ledge rim                                                                               16\n",
       "Schale/Schüssel 37.2 (Katzjäger 2017)                                                   16\n",
       "Name: shape_rtype, dtype: int64"
      ]
     },
     "execution_count": 13,
     "metadata": {},
     "output_type": "execute_result"
    }
   ],
   "source": [
    "df['shape_rtype'].value_counts().head(30)"
   ]
  },
  {
   "cell_type": "code",
   "execution_count": 14,
   "id": "cd1f913c",
   "metadata": {
    "hidden": true
   },
   "outputs": [
    {
     "data": {
      "text/plain": [
       "['shape_sub_group', 'shape_rtype']"
      ]
     },
     "execution_count": 14,
     "metadata": {},
     "output_type": "execute_result"
    }
   ],
   "source": [
    "# We drop this column as well.\n",
    "cols_to_drop.append('shape_rtype')\n",
    "cols_to_drop"
   ]
  },
  {
   "cell_type": "markdown",
   "id": "f2da11a8",
   "metadata": {
    "heading_collapsed": true
   },
   "source": [
    "### Clean the color column"
   ]
  },
  {
   "cell_type": "code",
   "execution_count": 15,
   "id": "1c2a8b9a",
   "metadata": {
    "hidden": true
   },
   "outputs": [
    {
     "data": {
      "text/plain": [
       "                                                                             5473\n",
       "10R5/6                                                                        123\n",
       "2.5YR5/6                                                                      121\n",
       "2.5YR6/8                                                                      107\n",
       "2.5YR5/8                                                                       82\n",
       "Clay reddish yellow (7.5 YR 6/6).                                              76\n",
       "Red clay                                                                       70\n",
       "Clay reddish yellow (5 YR 6/6).                                                52\n",
       "2.5YR6/6                                                                       51\n",
       "10R4/6                                                                         50\n",
       "10R5/8                                                                         43\n",
       "smooth, bright whitish grey, flecked with small and medium lime fragments      40\n",
       "10YR8/3                                                                        37\n",
       "reddish                                                                        36\n",
       "Compact red-orange clay with basalt inclusions.                                36\n",
       "2.5YR5/4                                                                       35\n",
       "light reddish brown                                                            35\n",
       "5YR6/6                                                                         34\n",
       "orange                                                                         31\n",
       "Brownish red clay. Grey (basalt) and white inclusions.                         31\n",
       "Orange                                                                         30\n",
       "Light brown                                                                    30\n",
       "Red-Slipped                                                                    29\n",
       "buff                                                                           28\n",
       "5YR5/4                                                                         27\n",
       "2.5YR4/6                                                                       27\n",
       "gray-black                                                                     25\n",
       "10R5/4                                                                         24\n",
       "10R6/6                                                                         24\n",
       "Reddish yellow (5YR 6/6)                                                       23\n",
       "Name: color, dtype: int64"
      ]
     },
     "execution_count": 15,
     "metadata": {},
     "output_type": "execute_result"
    }
   ],
   "source": [
    "df['color'].value_counts().head(30)"
   ]
  },
  {
   "cell_type": "markdown",
   "id": "36f82c5d",
   "metadata": {
    "hidden": true
   },
   "source": [
    "> Not sure what the various codes mean. Will look into this and maybe consider cleaning this column."
   ]
  },
  {
   "cell_type": "markdown",
   "id": "f4d0ebf3",
   "metadata": {
    "heading_collapsed": true
   },
   "source": [
    "### Clean the firing column"
   ]
  },
  {
   "cell_type": "code",
   "execution_count": 16,
   "id": "0def9715",
   "metadata": {
    "hidden": true
   },
   "outputs": [
    {
     "data": {
      "text/plain": [
       "                     7900\n",
       "Fully fired          1003\n",
       "fully fired           320\n",
       "Break: 2.5YR7/6       219\n",
       "Break: 2.5YR6/6       205\n",
       "Full fired            105\n",
       "Break: 5YR7/6          95\n",
       "Break: 2.5YR5/6        88\n",
       "Break: 5YR6/6          81\n",
       "Black core.            76\n",
       "Break: 5YR5/6          73\n",
       "Fully Fired            66\n",
       "Thick black core.      61\n",
       "Break: 2.5YR8/4        57\n",
       "Break: 2.5YR7/4        53\n",
       "Break: 10R7/6          52\n",
       "Grey core.             47\n",
       "Break: 5YR8/4          47\n",
       "Break: 2.5YR6/4        40\n",
       "Break: 5YR6/4          40\n",
       "Break: 2.5YR6/8        39\n",
       "Break: 5YR7/4          36\n",
       "Oxidized               34\n",
       "Break: 2.5YR5/8        34\n",
       "Thick grey core.       32\n",
       "Break: 10R5/6          29\n",
       "Break: 10R6/6          29\n",
       "Grey core              28\n",
       "Break: 7.5YR5/4        28\n",
       "Break: 7.5YR4/6        27\n",
       "Name: firing, dtype: int64"
      ]
     },
     "execution_count": 16,
     "metadata": {},
     "output_type": "execute_result"
    }
   ],
   "source": [
    "df['firing'].value_counts().head(30)"
   ]
  },
  {
   "cell_type": "code",
   "execution_count": 17,
   "id": "c9393c7e",
   "metadata": {
    "hidden": true
   },
   "outputs": [
    {
     "data": {
      "text/plain": [
       "                                   7900\n",
       "Fully Fired                        1494\n",
       "Break: 2.5YR7/6                     219\n",
       "Break: 2.5YR6/6                     205\n",
       "Black Core                          155\n",
       "Grey Core                           136\n",
       "Break: 5YR7/6                        95\n",
       "Break: 2.5YR5/6                      88\n",
       "Break: 5YR6/6                        81\n",
       "Break: 5YR5/6                        73\n",
       "Break: 2.5YR8/4                      57\n",
       "Break: 2.5YR7/4                      53\n",
       "Break: 10R7/6                        52\n",
       "Break: 5YR8/4                        47\n",
       "Break: 5YR6/4                        40\n",
       "Break: 2.5YR6/4                      40\n",
       "Break: 2.5YR6/8                      39\n",
       "Break: 5YR7/4                        36\n",
       "Oxidized                             34\n",
       "Break: 2.5YR5/8                      34\n",
       "Break: 10R5/6                        29\n",
       "Break: 10R6/6                        29\n",
       "Break: 7.5YR5/4                      28\n",
       "Break: 7.5YR4/6                      27\n",
       "c. 600°C                             27\n",
       "Break: 5YR4/6                        26\n",
       "Break: 5YR5/4                        23\n",
       "Break: 7.5YR4/4                      23\n",
       "Break: 7.5YR7/4                      23\n",
       "Break: 7.5YR6/4                      22\n",
       "Break: 2.5YR4/6                      22\n",
       "Break: 10R8/4                        22\n",
       "Gray Core                            21\n",
       "Above 750°C                          20\n",
       "Break: 7.5YR7/6                      19\n",
       "Break: 7.5YR5/6                      18\n",
       "complete                             18\n",
       "Black core, up to 750°C              17\n",
       "Break: 2.5YR5/4                      16\n",
       "Fully fired, up to 750°C             16\n",
       "Break: 2.5YR4/8                      15\n",
       "fully fired, no core visible         15\n",
       "Core: Dark gray (N 4/), reduced      15\n",
       "Break: 2.5YR7/8                      15\n",
       "Break: 7.5YR8/4                      13\n",
       "Fully fired, above 750°C             12\n",
       "Fully Fired                          12\n",
       "low, up to 750                       12\n",
       "Fine grey core.                      12\n",
       "Break: 10R6/4                        12\n",
       "Name: firing, dtype: int64"
      ]
     },
     "execution_count": 17,
     "metadata": {},
     "output_type": "execute_result"
    }
   ],
   "source": [
    "df['firing'].replace({'Fully fired': 'Fully Fired',\n",
    "                      'fully fired': 'Fully Fired',\n",
    "                      'Full fired': 'Fully Fired',\n",
    "                      'Black core.': 'Black Core',\n",
    "                      'Thick black core.': 'Black Core',\n",
    "                      'Black core': 'Black Core',\n",
    "                      'Black core, up to 75*': 'Black Core',\n",
    "                      'Grey core.': 'Grey Core',\n",
    "                      'Thick grey core.': 'Grey Core',\n",
    "                      'Grey core': 'Grey Core',\n",
    "                      'wide gray core': 'Gray Core',\n",
    "                      'Gray Core': 'Grey Core',\n",
    "                      'wide light grey core': 'Grey Core',\n",
    "                      'narrow light grey core': 'Grey Core'}).value_counts().head(50)"
   ]
  },
  {
   "cell_type": "markdown",
   "id": "b4f20d6d",
   "metadata": {
    "heading_collapsed": true
   },
   "source": [
    "### Clean the surface treatment column\n"
   ]
  },
  {
   "cell_type": "code",
   "execution_count": 18,
   "id": "9f76efde",
   "metadata": {
    "hidden": true
   },
   "outputs": [
    {
     "data": {
      "text/plain": [
       "                                                                                        6023\n",
       "dull slip on entire vessel                                                               459\n",
       "dull slip on entire vessel, partially rubbed off                                         348\n",
       "dull slip on entire vessel, rubbed off                                                   268\n",
       "dull slip on exterior                                                                    223\n",
       "Voids.                                                                                   141\n",
       "dull slip on exterior, partially rubbed off                                              137\n",
       "Red slipped                                                                               81\n",
       "wet-smoothed                                                                              65\n",
       "dull glossy slip on entire vessel                                                         58\n",
       "self-slipped, slightly powdery surface                                                    46\n",
       "Red slip                                                                                  37\n",
       "dull glossy slip on entire vessel, partially rubbed off                                   35\n",
       "dull slip on exterior, rubbed off                                                         33\n",
       "Red Slipped                                                                               33\n",
       "Cream slip                                                                                29\n",
       "Red slip and burnish                                                                      29\n",
       "dull slip on entire vessel, rubbed off, rouletting on exterior                            23\n",
       "wet-smoothed, self-slipped                                                                22\n",
       "self-slipped                                                                              20\n",
       "dull slip on interior                                                                     20\n",
       "wet smoothed                                                                              19\n",
       "Lustrous orange-red slip                                                                  19\n",
       "Decoration red (2.5 YR 5/8). Rim and neck plain painted; parallel bands on the body.      19\n",
       "no surface treatment                                                                      19\n",
       "Red slip, black decoration                                                                19\n",
       "dull slip on entire vessel, partially rubbed off, rouletting on exterior                  18\n",
       "Plain/uncoated                                                                            18\n",
       "dull slip on interior, partially rubbed off                                               17\n",
       "red slip on interior and exterior                                                         17\n",
       "Name: surface_treatment, dtype: int64"
      ]
     },
     "execution_count": 18,
     "metadata": {},
     "output_type": "execute_result"
    }
   ],
   "source": [
    "df['surface_treatment'].value_counts().head(30)"
   ]
  },
  {
   "cell_type": "markdown",
   "id": "00e9e3a4",
   "metadata": {
    "heading_collapsed": true
   },
   "source": [
    "### Clean the manu_tech column "
   ]
  },
  {
   "cell_type": "code",
   "execution_count": 19,
   "id": "7d42e96e",
   "metadata": {
    "hidden": true
   },
   "outputs": [],
   "source": [
    "# Convert the entries to strings\n",
    "df['manu_tech'] = df['manu_tech'].apply(','.join)"
   ]
  },
  {
   "cell_type": "code",
   "execution_count": 20,
   "id": "0e39bbc4",
   "metadata": {
    "hidden": true
   },
   "outputs": [
    {
     "data": {
      "text/plain": [
       "wheel_made                                                                                                                                                                                                                                                             8543\n",
       "                                                                                                                                                                                                                                                                       7255\n",
       "hand_made_coil                                                                                                                                                                                                                                                          360\n",
       "hand_made_slab                                                                                                                                                                                                                                                          180\n",
       "mold_made                                                                                                                                                                                                                                                               171\n",
       "other,hand_made                                                                                                                                                                                                                                                          28\n",
       "wheel_made,hand_made_coil,hand_made_slab                                                                                                                                                                                                                                 25\n",
       "wheel_made,hand_made_coil                                                                                                                                                                                                                                                21\n",
       "wheel_made,mold_made                                                                                                                                                                                                                                                     15\n",
       "ware,wheel_made                                                                                                                                                                                                                                                          11\n",
       "other,Carved                                                                                                                                                                                                                                                             10\n",
       "other,Hand-made                                                                                                                                                                                                                                                          10\n",
       "hand_made_coil,hand_made_slab                                                                                                                                                                                                                                             6\n",
       "wheel_made,other                                                                                                                                                                                                                                                          4\n",
       "wheel_made,hand_made_slab                                                                                                                                                                                                                                                 3\n",
       "mold_made,hand_made_coil                                                                                                                                                                                                                                                  2\n",
       "ware,hand_made_coil                                                                                                                                                                                                                                                       2\n",
       "other                                                                                                                                                                                                                                                                     2\n",
       "other,Fine ware                                                                                                                                                                                                                                                           2\n",
       "other,hand_made; Inclusions: “Finely mixed clay with small,medium and a few large inclusions and organics” (Webb et al. 2009: 56); many black and light/white sand,few medium lime (some spawled),few gray and lime gravel,some small to medium voids from organics       1\n",
       "other,hand_made; Inclusions: “Finely mixed clay with small inclusions and fine organics” (Webb et al. 2009: 54); some sand,some organic now black,few voids (breaks look like layers of flaking clay)                                                                     1\n",
       "other,hand_made; Inclusions: “Finely mixed clay with small and medium inclusions” (Webb et al. 2009: 54); some black sand,many small lime,many medium lime,few large lime and other stone,few small voids                                                                 1\n",
       "other,hand_made; Inclusions: “Finely mixed clay with small,medium and some large inclusions and finely chopped straw” (Webb et al. 2009: 56); many sand dark and light,some medium white,black,and reddish stone and organics,some small voids                            1\n",
       "other,hand_made; Inclusions: “Finely mixed clay with small and some large inclusions” (Webb et al. 2009: 55); some sand (few black,mostly white lime),some medium lime and few large lime,some lime spawled off surface leaving pock marks                                1\n",
       "other,hand_made; Inclusions: “Finely mixed clay with small,medium and some large inclusions,fired buff” (Webb et al. 2009: 54); many small sand (black,white),some medium lime and red and dark stone; lime at surface not spawled out; some small voids                  1\n",
       "other,hand_made; Inclusions: “Well mixed clay with small,medium and large inclusions and organics” (Webb et al. 2009); many sand (black,grayish,and white lime),some medium lime,few gravel lime and other stone (one red),few small voids                                1\n",
       "other,hand_made; Inclusions: no fabric description in Webb et al. 2009; many small sand (black and white),few medium lime,few large gravel,few small voids                                                                                                                1\n",
       "other,hand_made; Inclusions: “Very finely mixed clay with small and medium inclusions,fired buff” (Webb et al. 2009: 55); many small sand (mostly black),few small voids,few medium lime and other stone (some spawled out)                                               1\n",
       "other,Hand-made; Inclusions: No comment on fabric in Webb et al. 2009; many small sand (black and white),few medium lime,few large gravel (spawled thus probably lime),few small voids                                                                                    1\n",
       "other,Hand-made; Inclusions: “Finely mixed clay with small and a few large inclusions” (Webb et al. 2009: 54); some small sand (black),few small voids,few large gravel                                                                                                   1\n",
       "Name: manu_tech, dtype: int64"
      ]
     },
     "execution_count": 20,
     "metadata": {},
     "output_type": "execute_result"
    }
   ],
   "source": [
    "# Consolidate the labels\n",
    "df['manu_tech'].replace({'Wheel-made': 'wheel_made',\n",
    "                         'Wheelmade': 'wheel_made',\n",
    "                         'wheelmade': 'wheel_made',\n",
    "                         'Wheel made': 'wheel_made',\n",
    "                         'Mold made': 'mold_made',\n",
    "                         'other,wheel finished': 'wheel_made,other',\n",
    "                         'other,Handmade': 'other,hand_made',\n",
    "                         'other,Hand made': 'other,hand_made',\n",
    "                         'other,Handmade; Inc*': 'other,hand_made',\n",
    "                         'other,hand_made; Inc*': 'other,hand_made'},\n",
    "                         regex = True).value_counts().head(30)"
   ]
  },
  {
   "cell_type": "markdown",
   "id": "4057b348",
   "metadata": {
    "hidden": true
   },
   "source": [
    "> Still need to figure out how to use regex to clean the remaining data."
   ]
  },
  {
   "cell_type": "markdown",
   "id": "b4a4fcf2",
   "metadata": {
    "heading_collapsed": true
   },
   "source": [
    "### Clean the arch_context column"
   ]
  },
  {
   "cell_type": "code",
   "execution_count": 21,
   "id": "2fdb06a0",
   "metadata": {
    "hidden": true
   },
   "outputs": [
    {
     "data": {
      "text/plain": [
       "                                                              3145\n",
       "Surface                                                        490\n",
       "House K26                                                      304\n",
       "Paphos Agora                                                   215\n",
       "Cistern                                                        212\n",
       "City of David, Y. Shiloh                                       145\n",
       "Ophel, E. Mazar                                                128\n",
       "Subterranean Complex 169                                       126\n",
       "Citadel summit                                                 114\n",
       "Communal tomb, Area A                                           99\n",
       "surface survey                                                  98\n",
       "House K20, cellar, phase 8, adobe brick rubble                  94\n",
       "Fortress                                                        89\n",
       "Citadel Mound, SW zone, Op. 17, “Square Pit”, dump deposit      87\n",
       "Under a mosaic                                                  82\n",
       "Hospitaller Compound                                            75\n",
       "B1-3                                                            67\n",
       "Room 43, DSU 160                                                66\n",
       "Area B                                                          64\n",
       "Area 13c, house 34, room 1, use level                           61\n",
       "fill                                                            61\n",
       "Area 13c, house 34, room 4, use level                           61\n",
       "House K20, east courtyard, phase 2, use level                   57\n",
       "Area 13c, south of house 34, street level                       56\n",
       "House M10, west courtyard, phase 2, adobe brick rubble          48\n",
       "Level: 7BC                                                      48\n",
       "Area 13c, house 33, room 5, collapsed vault                     47\n",
       "B1                                                              45\n",
       "Surface of the east terrace                                     44\n",
       "Surface Survey                                                  43\n",
       "Name: arch_context, dtype: int64"
      ]
     },
     "execution_count": 21,
     "metadata": {},
     "output_type": "execute_result"
    }
   ],
   "source": [
    "df['arch_context'].value_counts().head(30)"
   ]
  },
  {
   "cell_type": "markdown",
   "id": "ef2e4b74",
   "metadata": {
    "hidden": true
   },
   "source": [
    "> This seems to be a description of where the sherd was found. We don't think this will be particularly useful for data modeling. We will drop this column."
   ]
  },
  {
   "cell_type": "code",
   "execution_count": 22,
   "id": "d56a485f",
   "metadata": {
    "hidden": true
   },
   "outputs": [
    {
     "data": {
      "text/plain": [
       "['shape_sub_group', 'shape_rtype', 'arch_context']"
      ]
     },
     "execution_count": 22,
     "metadata": {},
     "output_type": "execute_result"
    }
   ],
   "source": [
    "# Add the arch_context column to the list of columns to drop.\n",
    "cols_to_drop.append('arch_context')\n",
    "cols_to_drop"
   ]
  },
  {
   "cell_type": "markdown",
   "id": "92bb9ba4",
   "metadata": {
    "heading_collapsed": true
   },
   "source": [
    "### Clean the privacy_status column"
   ]
  },
  {
   "cell_type": "code",
   "execution_count": 23,
   "id": "f7b1224d",
   "metadata": {
    "hidden": true
   },
   "outputs": [
    {
     "data": {
      "text/plain": [
       "1    16350\n",
       "2      256\n",
       "3       83\n",
       "0       28\n",
       "Name: privacy_status, dtype: int64"
      ]
     },
     "execution_count": 23,
     "metadata": {},
     "output_type": "execute_result"
    }
   ],
   "source": [
    "df['privacy_status'].value_counts()"
   ]
  },
  {
   "cell_type": "markdown",
   "id": "3cf0e132",
   "metadata": {
    "hidden": true
   },
   "source": [
    "> This probably isn't useful, but will confirm before dropping."
   ]
  },
  {
   "cell_type": "markdown",
   "id": "e24762d1",
   "metadata": {
    "heading_collapsed": true
   },
   "source": [
    "### Clean the site_type column"
   ]
  },
  {
   "cell_type": "code",
   "execution_count": 24,
   "id": "12792f6d",
   "metadata": {
    "hidden": true
   },
   "outputs": [
    {
     "data": {
      "text/plain": [
       "City                                       2976\n",
       "                                           2623\n",
       "town, house, domestic                      2275\n",
       "Settlement                                  848\n",
       "Village                                     418\n",
       "city and port                               267\n",
       "Harbor                                      232\n",
       "Port                                        226\n",
       "town                                        220\n",
       "Fortified settlement                        170\n",
       "Fortified citadel                           135\n",
       "cemetery                                    120\n",
       "Cistern                                     108\n",
       "Urban                                       106\n",
       "sanctuary                                   106\n",
       "fortification                               104\n",
       "Big fortified citadel                        97\n",
       "Tomb                                         97\n",
       "khan/inn                                     95\n",
       "Fortified little citadel and settlement      89\n",
       "Cemetery                                     86\n",
       "town, street                                 84\n",
       "settlement and citadel                       83\n",
       "Shipwreck                                    82\n",
       "Build in stone rooms                         82\n",
       "fort                                         76\n",
       "Urban Site                                   76\n",
       "Camp                                         75\n",
       "Kiln                                         74\n",
       "fortress                                     73\n",
       "Name: site_type, dtype: int64"
      ]
     },
     "execution_count": 24,
     "metadata": {},
     "output_type": "execute_result"
    }
   ],
   "source": [
    "df['site_type'].replace({'city': 'City',\n",
    "                         'Large city': 'City',\n",
    "                         'settlement': 'Settlement',\n",
    "                         'village': 'Village'}).value_counts().head(30)"
   ]
  },
  {
   "cell_type": "markdown",
   "id": "29577174",
   "metadata": {
    "heading_collapsed": true
   },
   "source": [
    "### Clean the period column"
   ]
  },
  {
   "cell_type": "code",
   "execution_count": 25,
   "id": "2f81ad30",
   "metadata": {
    "hidden": true
   },
   "outputs": [
    {
     "data": {
      "text/plain": [
       "Hellenistic                      903\n",
       "Byzantine                        704\n",
       "Roman                            532\n",
       "Missing                          463\n",
       "Iron Age IIC                     364\n",
       "Iron Age IIB                     350\n",
       "Byzantine, Early Islamic         315\n",
       "Iron Age IIA                     284\n",
       "Middle Bronze Age II             251\n",
       "Persian Period                   246\n",
       "Hellenistic, Early Roman         215\n",
       "Late Hellenistic                 203\n",
       "Early Islamic                    185\n",
       "Early Bronze Age II              160\n",
       "Mamluk-Ottoman Period            148\n",
       "Late Hellenistic, Early Roman    145\n",
       "Iron Age I                       135\n",
       "Early Roman                      129\n",
       "Late Bronze Age II               128\n",
       "Late Iron Age                    109\n",
       "Iron Age                         106\n",
       "Ptolemaic                        104\n",
       "Roman Period                     102\n",
       "Late Bronze Age                   81\n",
       "Chalcolithic                      76\n",
       "Iron Age IIB-C                    68\n",
       "Late Period                       61\n",
       "Persian                           59\n",
       "Iron Age II                       52\n",
       "Ottoman                           48\n",
       "Name: period, dtype: int64"
      ]
     },
     "execution_count": 25,
     "metadata": {},
     "output_type": "execute_result"
    }
   ],
   "source": [
    "df['period'].replace({'': 'Missing'}).value_counts().head(30)"
   ]
  },
  {
   "cell_type": "markdown",
   "id": "4e57677d",
   "metadata": {
    "heading_collapsed": true
   },
   "source": [
    "### Clean the petrofab_visual_desc column"
   ]
  },
  {
   "cell_type": "code",
   "execution_count": 26,
   "id": "13ff0d11",
   "metadata": {
    "hidden": true
   },
   "outputs": [
    {
     "data": {
      "text/plain": [
       "                                                                                                                                                                                                                                                                                                                                                                                                                                                                                                                                                                                                                                                                                                                                                                                                                                                                   9372\n",
       "The matrix is ferruginous calcareous clay with small quantities of silt-size quartz and carbonate relicts. The clay minerals of the matrix had changed their optical properties due to the firing (firing temperature was estimated close to 750C). The non plastic inclusions are well sorted sub-rounded to rounded mostly quartz sand with rare plagioclase, chert and chalk balls, and constitutes about 12 percent of the sherd’s volume. There are numerous tiny cracks parallel to the surfaces of the vessel and rare grass negatives.                                                                                                                                                                                                                                                                                                                       1\n",
       "The matrix is light brownish-green to greenish-brown in plain polarized light. The clay minerals had changed their optical properties and are strongly vitrified as a result of firing at the temperature close to 800C.  The temper is olivine-iddingsite sand (up to 85% of total) – large (up to 0.3 mm) rounded reddish-brown to dark brown grains, sometimes containing relict olivine nucleus. They compose about 15% of the total volume of the sherd. Also appear: olivine not altered into iddingsite - small angular to rounded grains; plagioclase - small grains, some of them with character twinning; schist - single rounded grains. Rare are: chalk balls, chlorite that is also secondary altering of olivine (large aggregates, golden-brown in PPL), amphibole - angular grains. Some hollows – from tiny cracks to large round bubbles.\\r\\n       1\n",
       " Matrix is calcareous marl, little ferruginous fired at about 750ºC (clay minerals partially saved their optical properties). The non plastic inclusions are quartz sand, which 0.1-0.3 mm sub-rounded to sub-angular grains, compose about 6 % of the volume of the sherd. There are also sporadic 0.3- 0.7 mm chalk particles and dark brown 0.3-0.4 mm in diameter nodules of silty clay (possibly Terra Rossa).                                                                                                                                                                                                                                                                                                                                                                                                                                                   1\n",
       "sandy                                                                                                                                                                                                                                                                                                                                                                                                                                                                                                                                                                                                                                                                                                                                                                                                                                                                 1\n",
       "Name: petrofab_visual_desc, dtype: int64"
      ]
     },
     "execution_count": 26,
     "metadata": {},
     "output_type": "execute_result"
    }
   ],
   "source": [
    "df['petrofab_visual_desc'].value_counts().head(30)"
   ]
  },
  {
   "cell_type": "markdown",
   "id": "31bed754",
   "metadata": {
    "hidden": true
   },
   "source": [
    "> This column is not useful for our model so we drop it."
   ]
  },
  {
   "cell_type": "code",
   "execution_count": 27,
   "id": "e0e289b1",
   "metadata": {
    "hidden": true
   },
   "outputs": [
    {
     "data": {
      "text/plain": [
       "['shape_sub_group', 'shape_rtype', 'arch_context', 'petrofab_visual_desc']"
      ]
     },
     "execution_count": 27,
     "metadata": {},
     "output_type": "execute_result"
    }
   ],
   "source": [
    "# Drop the petrofab_visual_desc column\n",
    "cols_to_drop.append('petrofab_visual_desc')\n",
    "cols_to_drop"
   ]
  },
  {
   "cell_type": "markdown",
   "id": "a70d3fc3",
   "metadata": {
    "heading_collapsed": true
   },
   "source": [
    "### Clean the start_year column"
   ]
  },
  {
   "cell_type": "code",
   "execution_count": 28,
   "id": "c8b234d7",
   "metadata": {
    "hidden": true
   },
   "outputs": [
    {
     "data": {
      "text/plain": [
       "-300.0     1037\n",
       "-200.0      897\n",
       " 0.0        547\n",
       "-100.0      380\n",
       "-600.0      323\n",
       "           ... \n",
       " 2200.0       1\n",
       "-665.0        1\n",
       "-680.0        1\n",
       "-610.0        1\n",
       "-2900.0       1\n",
       "Name: start_year, Length: 254, dtype: int64"
      ]
     },
     "execution_count": 28,
     "metadata": {},
     "output_type": "execute_result"
    }
   ],
   "source": [
    "df['start_year'].value_counts()"
   ]
  },
  {
   "cell_type": "code",
   "execution_count": 29,
   "id": "79957d03",
   "metadata": {
    "hidden": true
   },
   "outputs": [
    {
     "data": {
      "text/plain": [
       "5989"
      ]
     },
     "execution_count": 29,
     "metadata": {},
     "output_type": "execute_result"
    }
   ],
   "source": [
    "# Check for missing values in 'start year'\n",
    "df['start_year'].isna().sum()"
   ]
  },
  {
   "cell_type": "markdown",
   "id": "d74c82f8",
   "metadata": {
    "hidden": true
   },
   "source": [
    "> The labeling convention seems inconsistent for this column. There are years that should probably be negative. (2200 .e.g.) "
   ]
  },
  {
   "cell_type": "markdown",
   "id": "52586e73",
   "metadata": {
    "heading_collapsed": true
   },
   "source": [
    "### Clean the end_year column"
   ]
  },
  {
   "cell_type": "code",
   "execution_count": 30,
   "id": "fc0a7b51",
   "metadata": {
    "hidden": true
   },
   "outputs": [
    {
     "data": {
      "text/plain": [
       "-101.0     1047\n",
       "-1.0        713\n",
       " 99.0       688\n",
       " 199.0      516\n",
       " 700.0      415\n",
       "           ... \n",
       "-275.0        1\n",
       "-3100.0       1\n",
       " 3100.0       1\n",
       "-530.0        1\n",
       " 730.0        1\n",
       "Name: end_year, Length: 282, dtype: int64"
      ]
     },
     "execution_count": 30,
     "metadata": {},
     "output_type": "execute_result"
    }
   ],
   "source": [
    "df['end_year'].value_counts()"
   ]
  },
  {
   "cell_type": "markdown",
   "id": "19bc6de5",
   "metadata": {
    "hidden": true
   },
   "source": [
    "> Same issue as above. Need to fix the labels that should be negative somehow."
   ]
  },
  {
   "cell_type": "markdown",
   "id": "8fe2954d",
   "metadata": {
    "heading_collapsed": true
   },
   "source": [
    "### Clean the references_data column"
   ]
  },
  {
   "cell_type": "code",
   "execution_count": 31,
   "id": "3fecc5e8",
   "metadata": {
    "hidden": true
   },
   "outputs": [
    {
     "data": {
      "text/plain": [
       "0     {}\n",
       "1     {}\n",
       "2     {}\n",
       "3     {}\n",
       "4     {}\n",
       "5     {}\n",
       "6     {}\n",
       "7     {}\n",
       "8     {}\n",
       "9     {}\n",
       "10    {}\n",
       "11    {}\n",
       "12    {}\n",
       "13    {}\n",
       "14    {}\n",
       "15    {}\n",
       "16    {}\n",
       "17    {}\n",
       "18    {}\n",
       "19    {}\n",
       "20    {}\n",
       "21    {}\n",
       "22    {}\n",
       "23    {}\n",
       "24    {}\n",
       "25    {}\n",
       "26    {}\n",
       "27    {}\n",
       "28    {}\n",
       "29    {}\n",
       "Name: references_data, dtype: object"
      ]
     },
     "execution_count": 31,
     "metadata": {},
     "output_type": "execute_result"
    }
   ],
   "source": [
    "df['references_data'].head(30)"
   ]
  },
  {
   "cell_type": "markdown",
   "id": "818773db",
   "metadata": {
    "hidden": true
   },
   "source": [
    "> Need to investigate this further."
   ]
  },
  {
   "cell_type": "markdown",
   "id": "45d9513a",
   "metadata": {
    "heading_collapsed": true
   },
   "source": [
    "### Clean the thickness column"
   ]
  },
  {
   "cell_type": "code",
   "execution_count": 32,
   "id": "88a590a0",
   "metadata": {
    "hidden": true
   },
   "outputs": [
    {
     "data": {
      "text/plain": [
       "0.0     15241\n",
       "0.5       209\n",
       "0.4       205\n",
       "0.6       148\n",
       "0.7       136\n",
       "        ...  \n",
       "1.06        1\n",
       "0.63        1\n",
       "0.77        1\n",
       "0.87        1\n",
       "9.0         1\n",
       "Name: thickness, Length: 93, dtype: int64"
      ]
     },
     "execution_count": 32,
     "metadata": {},
     "output_type": "execute_result"
    }
   ],
   "source": [
    "df['thickness'].value_counts()"
   ]
  },
  {
   "cell_type": "code",
   "execution_count": 33,
   "id": "679ced28",
   "metadata": {
    "hidden": true
   },
   "outputs": [
    {
     "data": {
      "text/plain": [
       "1465"
      ]
     },
     "execution_count": 33,
     "metadata": {},
     "output_type": "execute_result"
    }
   ],
   "source": [
    "# Determine how many entries larger than 0.\n",
    "(df['thickness'].astype('float64') > 0).sum()"
   ]
  },
  {
   "cell_type": "markdown",
   "id": "051ad19a",
   "metadata": {
    "hidden": true
   },
   "source": [
    "> Not many nonzero values. We may end up dropping this column."
   ]
  },
  {
   "cell_type": "markdown",
   "id": "010d78ff",
   "metadata": {
    "heading_collapsed": true
   },
   "source": [
    "### Clean the height column"
   ]
  },
  {
   "cell_type": "code",
   "execution_count": 34,
   "id": "2d11b0d2",
   "metadata": {
    "hidden": true
   },
   "outputs": [
    {
     "data": {
      "text/plain": [
       "preserved    2777\n",
       "true         1105\n",
       "Name: height, dtype: int64"
      ]
     },
     "execution_count": 34,
     "metadata": {},
     "output_type": "execute_result"
    }
   ],
   "source": [
    "df['height'].value_counts()"
   ]
  },
  {
   "cell_type": "markdown",
   "id": "189d794d",
   "metadata": {
    "heading_collapsed": true
   },
   "source": [
    "### Clean the preserved_height column"
   ]
  },
  {
   "cell_type": "code",
   "execution_count": 35,
   "id": "b98cacef",
   "metadata": {
    "hidden": true
   },
   "outputs": [
    {
     "data": {
      "text/plain": [
       "0.0      12875\n",
       "4.0        124\n",
       "3.0         83\n",
       "5.0         78\n",
       "4.5         70\n",
       "         ...  \n",
       "23.7         1\n",
       "25.9         1\n",
       "29.3         1\n",
       "130.0        1\n",
       "2.92         1\n",
       "Name: preserved_height, Length: 299, dtype: int64"
      ]
     },
     "execution_count": 35,
     "metadata": {},
     "output_type": "execute_result"
    }
   ],
   "source": [
    "df['preserved_height'].value_counts()"
   ]
  },
  {
   "cell_type": "code",
   "execution_count": 36,
   "id": "59f53fa3",
   "metadata": {
    "hidden": true
   },
   "outputs": [
    {
     "data": {
      "text/plain": [
       "2723"
      ]
     },
     "execution_count": 36,
     "metadata": {},
     "output_type": "execute_result"
    }
   ],
   "source": [
    "(df['preserved_height'].astype('float64' ) > 0).sum()"
   ]
  },
  {
   "cell_type": "markdown",
   "id": "3b499ecf",
   "metadata": {
    "heading_collapsed": true
   },
   "source": [
    "### Clean the true_height column"
   ]
  },
  {
   "cell_type": "code",
   "execution_count": 37,
   "id": "7f619692",
   "metadata": {
    "hidden": true
   },
   "outputs": [
    {
     "data": {
      "text/plain": [
       "0.0     12855\n",
       "5.0        31\n",
       "4.0        29\n",
       "4.5        27\n",
       "3.0        26\n",
       "        ...  \n",
       "51.0        1\n",
       "32.2        1\n",
       "46.5        1\n",
       "22.4        1\n",
       "44.4        1\n",
       "Name: true_height, Length: 274, dtype: int64"
      ]
     },
     "execution_count": 37,
     "metadata": {},
     "output_type": "execute_result"
    }
   ],
   "source": [
    "df['true_height'].value_counts()"
   ]
  },
  {
   "cell_type": "code",
   "execution_count": 38,
   "id": "5bd8d0bf",
   "metadata": {
    "hidden": true
   },
   "outputs": [
    {
     "data": {
      "text/plain": [
       "1078"
      ]
     },
     "execution_count": 38,
     "metadata": {},
     "output_type": "execute_result"
    }
   ],
   "source": [
    "# Get the number of nonzero entries\n",
    "(df['true_height'].astype('float64') > 0).sum()"
   ]
  },
  {
   "cell_type": "markdown",
   "id": "ded5435b",
   "metadata": {
    "heading_collapsed": true
   },
   "source": [
    "### Clean the diameter_rim column"
   ]
  },
  {
   "cell_type": "code",
   "execution_count": 39,
   "id": "c3ec99b6",
   "metadata": {
    "hidden": true
   },
   "outputs": [
    {
     "data": {
      "text/plain": [
       "true         3476\n",
       "estimated     912\n",
       "Name: diameter_rim, dtype: int64"
      ]
     },
     "execution_count": 39,
     "metadata": {},
     "output_type": "execute_result"
    }
   ],
   "source": [
    "df['diameter_rim'].value_counts()"
   ]
  },
  {
   "cell_type": "markdown",
   "id": "c7994a75",
   "metadata": {
    "heading_collapsed": true
   },
   "source": [
    "### Clean the estimated_diameter_rim"
   ]
  },
  {
   "cell_type": "code",
   "execution_count": 40,
   "id": "7dd54c2d",
   "metadata": {
    "hidden": true
   },
   "outputs": [
    {
     "data": {
      "text/plain": [
       "0.0     12366\n",
       "10.0       81\n",
       "11.0       42\n",
       "12.0       42\n",
       "9.0        41\n",
       "        ...  \n",
       "10.1        1\n",
       "7.9         1\n",
       "15.9        1\n",
       "2.44        1\n",
       "26.5        1\n",
       "Name: estimated_diameter_rim, Length: 139, dtype: int64"
      ]
     },
     "execution_count": 40,
     "metadata": {},
     "output_type": "execute_result"
    }
   ],
   "source": [
    "df['estimated_diameter_rim'].value_counts()"
   ]
  },
  {
   "cell_type": "code",
   "execution_count": 41,
   "id": "736410dd",
   "metadata": {
    "hidden": true
   },
   "outputs": [
    {
     "data": {
      "text/plain": [
       "867"
      ]
     },
     "execution_count": 41,
     "metadata": {},
     "output_type": "execute_result"
    }
   ],
   "source": [
    "# Get the number of nonzero entries\n",
    "(df['estimated_diameter_rim'].astype('float64') > 0).sum()"
   ]
  },
  {
   "cell_type": "markdown",
   "id": "57c613b8",
   "metadata": {
    "heading_collapsed": true
   },
   "source": [
    "### Clean the true_diameter_rim column"
   ]
  },
  {
   "cell_type": "code",
   "execution_count": 42,
   "id": "1cab10b4",
   "metadata": {
    "hidden": true
   },
   "outputs": [
    {
     "data": {
      "text/plain": [
       "0.0     12401\n",
       "10.0      179\n",
       "12.0      175\n",
       "14.0      170\n",
       "18.0      155\n",
       "        ...  \n",
       "5.3         1\n",
       "21.5        1\n",
       "41.0        1\n",
       "1.0         1\n",
       "22.5        1\n",
       "Name: true_diameter_rim, Length: 278, dtype: int64"
      ]
     },
     "execution_count": 42,
     "metadata": {},
     "output_type": "execute_result"
    }
   ],
   "source": [
    "df['true_diameter_rim'].value_counts()"
   ]
  },
  {
   "cell_type": "code",
   "execution_count": 43,
   "id": "6a2f4693",
   "metadata": {
    "hidden": true
   },
   "outputs": [
    {
     "data": {
      "text/plain": [
       "3385"
      ]
     },
     "execution_count": 43,
     "metadata": {},
     "output_type": "execute_result"
    }
   ],
   "source": [
    "# Get the number of nonzero entries\n",
    "(df['true_diameter_rim'].astype('float64') > 0).sum()"
   ]
  },
  {
   "cell_type": "markdown",
   "id": "6576c6d0",
   "metadata": {
    "heading_collapsed": true
   },
   "source": [
    "### Clean the max_diameter column"
   ]
  },
  {
   "cell_type": "code",
   "execution_count": 44,
   "id": "f2624ced",
   "metadata": {
    "hidden": true
   },
   "outputs": [
    {
     "data": {
      "text/plain": [
       "                  8567\n",
       "estimated          120\n",
       "true                87\n",
       "16                  20\n",
       "15                  19\n",
       "                  ... \n",
       "24.3 cm (body)       1\n",
       "25.8 cm              1\n",
       "35 cm (body)         1\n",
       "4.2-4.22 cm          1\n",
       "N/A                  1\n",
       "Name: max_diameter, Length: 398, dtype: int64"
      ]
     },
     "execution_count": 44,
     "metadata": {},
     "output_type": "execute_result"
    }
   ],
   "source": [
    "df['max_diameter'].value_counts()"
   ]
  },
  {
   "cell_type": "markdown",
   "id": "5abd3866",
   "metadata": {
    "hidden": true
   },
   "source": [
    "> Not sure how to interpret this. The \"estimated\" and true \"labels\" seemed to reference other columns in this data set. "
   ]
  },
  {
   "cell_type": "markdown",
   "id": "8e3e87cc",
   "metadata": {
    "heading_collapsed": true
   },
   "source": [
    "### Clean the estimated_max_diameter column"
   ]
  },
  {
   "cell_type": "code",
   "execution_count": 45,
   "id": "f70b8917",
   "metadata": {
    "hidden": true
   },
   "outputs": [
    {
     "data": {
      "text/plain": [
       "0.0     16510\n",
       "13.0        9\n",
       "20.0        7\n",
       "12.0        6\n",
       "19.0        5\n",
       "21.0        5\n",
       "17.0        5\n",
       "10.0        5\n",
       "28.0        5\n",
       "32.0        4\n",
       "16.0        4\n",
       "9.0         3\n",
       "30.0        3\n",
       "24.0        3\n",
       "26.0        3\n",
       "22.0        3\n",
       "5.0         2\n",
       "12.5        2\n",
       "35.0        2\n",
       "15.0        2\n",
       "34.0        2\n",
       "29.0        2\n",
       "9.5         2\n",
       "40.0        2\n",
       "11.0        2\n",
       "6.0         1\n",
       "13.2        1\n",
       "18.5        1\n",
       "13.5        1\n",
       "19.6        1\n",
       "64.0        1\n",
       "51.2        1\n",
       "18.6        1\n",
       "22.4        1\n",
       "35.4        1\n",
       "12.8        1\n",
       "18.0        1\n",
       "44.0        1\n",
       "23.0        1\n",
       "36.0        1\n",
       "50.0        1\n",
       "42.0        1\n",
       "8.0         1\n",
       "14.0        1\n",
       "17.5        1\n",
       "38.0        1\n",
       "7.0         1\n",
       "6.2         1\n",
       "8.5         1\n",
       "31.0        1\n",
       "55.0        1\n",
       "29.5        1\n",
       "47.5        1\n",
       "Name: estimated_max_diameter, dtype: int64"
      ]
     },
     "execution_count": 45,
     "metadata": {},
     "output_type": "execute_result"
    }
   ],
   "source": [
    "df['estimated_max_diameter'].value_counts()"
   ]
  },
  {
   "cell_type": "code",
   "execution_count": 46,
   "id": "9d332b50",
   "metadata": {
    "hidden": true
   },
   "outputs": [
    {
     "data": {
      "text/plain": [
       "0.9876173954656936"
      ]
     },
     "execution_count": 46,
     "metadata": {},
     "output_type": "execute_result"
    }
   ],
   "source": [
    "# Get the percentage of entries equal to 0\n",
    "(df['estimated_max_diameter'].value_counts()[0]) / len(df)"
   ]
  },
  {
   "cell_type": "markdown",
   "id": "edb17fd7",
   "metadata": {
    "hidden": true
   },
   "source": [
    "> There's a lot of data missing. We should probably drop this column."
   ]
  },
  {
   "cell_type": "markdown",
   "id": "3d77221d",
   "metadata": {
    "heading_collapsed": true
   },
   "source": [
    "### Clean the true_max_diameter column"
   ]
  },
  {
   "cell_type": "code",
   "execution_count": 47,
   "id": "4f5b3ff6",
   "metadata": {
    "hidden": true
   },
   "outputs": [
    {
     "data": {
      "text/plain": [
       "0.0     16510\n",
       "14.0        5\n",
       "12.0        4\n",
       "16.2        3\n",
       "12.5        2\n",
       "        ...  \n",
       "13.0        1\n",
       "26.0        1\n",
       "8.5         1\n",
       "37.0        1\n",
       "5.7         1\n",
       "Name: true_max_diameter, Length: 65, dtype: int64"
      ]
     },
     "execution_count": 47,
     "metadata": {},
     "output_type": "execute_result"
    }
   ],
   "source": [
    "df['true_max_diameter'].value_counts()"
   ]
  },
  {
   "cell_type": "markdown",
   "id": "f1d9461a",
   "metadata": {
    "hidden": true
   },
   "source": [
    "> A lot of missing values in this column."
   ]
  },
  {
   "cell_type": "markdown",
   "id": "90dd76de",
   "metadata": {
    "heading_collapsed": true
   },
   "source": [
    "### Clean the diameter_base column"
   ]
  },
  {
   "cell_type": "code",
   "execution_count": 48,
   "id": "0234197a",
   "metadata": {
    "hidden": true
   },
   "outputs": [
    {
     "data": {
      "text/plain": [
       "true         1125\n",
       "estimated     164\n",
       "Name: diameter_base, dtype: int64"
      ]
     },
     "execution_count": 48,
     "metadata": {},
     "output_type": "execute_result"
    }
   ],
   "source": [
    "df['diameter_base'].value_counts()"
   ]
  },
  {
   "cell_type": "markdown",
   "id": "c544b9d7",
   "metadata": {
    "heading_collapsed": true
   },
   "source": [
    "### Clean the estimated_diameter_base column"
   ]
  },
  {
   "cell_type": "code",
   "execution_count": 49,
   "id": "d2f3f799",
   "metadata": {
    "hidden": true
   },
   "outputs": [
    {
     "data": {
      "text/plain": [
       "0.0     15438\n",
       "5.0        13\n",
       "6.0        11\n",
       "8.0        10\n",
       "11.0        8\n",
       "        ...  \n",
       "8.7         1\n",
       "6.9         1\n",
       "6.3         1\n",
       "5.9         1\n",
       "32.0        1\n",
       "Name: estimated_diameter_base, Length: 64, dtype: int64"
      ]
     },
     "execution_count": 49,
     "metadata": {},
     "output_type": "execute_result"
    }
   ],
   "source": [
    "df['estimated_diameter_base'].value_counts()"
   ]
  },
  {
   "cell_type": "markdown",
   "id": "a254f494",
   "metadata": {
    "hidden": true
   },
   "source": [
    "> Large number of missing values"
   ]
  },
  {
   "cell_type": "markdown",
   "id": "f714b87b",
   "metadata": {
    "heading_collapsed": true
   },
   "source": [
    "### Clean the true_diameter_base column"
   ]
  },
  {
   "cell_type": "code",
   "execution_count": 50,
   "id": "a0fae277",
   "metadata": {
    "hidden": true
   },
   "outputs": [
    {
     "data": {
      "text/plain": [
       "0.0     15454\n",
       "5.0        57\n",
       "6.0        52\n",
       "4.0        48\n",
       "3.0        41\n",
       "        ...  \n",
       "0.5         1\n",
       "9.3         1\n",
       "65.3        1\n",
       "43.5        1\n",
       "14.6        1\n",
       "Name: true_diameter_base, Length: 184, dtype: int64"
      ]
     },
     "execution_count": 50,
     "metadata": {},
     "output_type": "execute_result"
    }
   ],
   "source": [
    "df['true_diameter_base'].value_counts()"
   ]
  },
  {
   "cell_type": "markdown",
   "id": "ede3eec6",
   "metadata": {
    "hidden": true
   },
   "source": [
    "> If the missing values aren't spread out too much, we may be able to construct a complete dataset using many if not most of the columns."
   ]
  },
  {
   "cell_type": "markdown",
   "id": "c68fb7b6",
   "metadata": {
    "heading_collapsed": true
   },
   "source": [
    "### Clean the slug column"
   ]
  },
  {
   "cell_type": "code",
   "execution_count": 51,
   "id": "945b6446",
   "metadata": {
    "hidden": true
   },
   "outputs": [
    {
     "data": {
      "text/plain": [
       "mizpe-yammim-19-165      1\n",
       "lachish-l-2610-b-7743    1\n",
       "lachish-l-2610-b-7562    1\n",
       "lachish-l-2610-b-7733    1\n",
       "lachish-l-2611-b-7730    1\n",
       "                        ..\n",
       "o14-7                    1\n",
       "t18-18-1                 1\n",
       "m13-5                    1\n",
       "6-4                      1\n",
       "alasehir-3260            1\n",
       "Name: slug, Length: 16717, dtype: int64"
      ]
     },
     "execution_count": 51,
     "metadata": {},
     "output_type": "execute_result"
    }
   ],
   "source": [
    "df['slug'].value_counts()"
   ]
  },
  {
   "cell_type": "markdown",
   "id": "b3722401",
   "metadata": {
    "hidden": true
   },
   "source": [
    "> Not sure what to do with this. Need a subject-matter-expert."
   ]
  },
  {
   "cell_type": "markdown",
   "id": "46b8022a",
   "metadata": {
    "heading_collapsed": true
   },
   "source": [
    "### Clean the acknowledgement column"
   ]
  },
  {
   "cell_type": "code",
   "execution_count": 52,
   "id": "d34a08eb",
   "metadata": {
    "hidden": true
   },
   "outputs": [
    {
     "data": {
      "text/plain": [
       "                                                                                                                                                                                                                                                                                                                                                                                                                                                                                                                                                                                                                                                                                                                                                                                                                                     9144\n",
       "<p>This material is a product of the Syro-Belgian Tell Tweini Excavation Project, headed by Dr. Al-Maqdissi and Dr. Badawi, of the Syrian Department of Antiquities, and Prof. Dr. Joachim Bretschneider, of Ghent University. The full publication is J. Bretschneider and G. Jans, eds., <em style=\"background-color: initial;\">About Tell Tweini (Syria): Artefacts, Ecofacts and Landscape</em>. <em style=\"background-color: initial;\">Research Results of the Belgian Mission</em>. Orientalia Lovaniensia Analecta 281 (Leuven: Peeters Publishers, 2019) [ISBN 978-90-429-3678-2]. We acknowledge the kindness of the editors in sharing images and information.</p><p>Photographs were taken by B. Vandermeulen, K. Vansteenhuyse, and H. Hameeuw. Drawings were made under the supervision of K. Vansteenhuyse.</p>         192\n",
       "Financial support for this study was party provided by the Israel Science Foundation (Grant 209/14).                                                                                                                                                                                                                                                                                                                                                                                                                                                                                                                                                                                                                                                                                                                                  109\n",
       "<p>S. Dan-Goor and Y. Tchekhanovets, Israel Antiquities Authority, City of David Excavations</p>\\r\\n<p>&nbsp;<br />&nbsp;</p>                                                                                                                                                                                                                                                                                                                                                                                                                                                                                                                                                                                                                                                                                                         100\n",
       "<p>S. Dan-Goor and Y. Tchekhanovets, Israel Antiquities Authority, City of David Excavations</p>                                                                                                                                                                                                                                                                                                                                                                                                                                                                                                                                                                                                                                                                                                                                       98\n",
       "                                                                                                                                                                                                                                                                                                                                                                                                                                                                                                                                                                                                                                                                                                                                                                                                                                     ... \n",
       "<p>Acknowledgements: This entry was created by Smith using\\r\\ninformation in Webb et al. 2009 (which drew on a previous unpublished study by\\r\\nHerscher,&nbsp;which informed an exhibition, see catalogue: Kershaw ed. 1983) and measurements, color readings, observations of inclusions and\\r\\nsurface treatments, and other observed details made by Smith during the week of\\r\\nFebruary 24-28, 2020 at The Ringling Museum of Art.</p><p>Provenance: Excavated by James R. B. Stewart in 1961,\\r\\nUniversity of Sydney; donated by Eve Stewart to Florida State University 1973;\\r\\ndonated by Florida State University 1973; 1974 accessioned by The John and\\r\\nMable Ringling Museum of Art. SN74.14</p><p>Classified in Webb et al. 2009 as Red Polished I-II, as an import from the south or center of the island.</p>       1\n",
       "<p>Acknowledgements: This entry was created by Smith using\\r\\ninformation in Webb et al. 2009 (which drew on a previous unpublished study by\\r\\nHerscher,&nbsp;which informed an exhibition, see catalogue: Kershaw ed. 1983) and measurements, color readings, observations of inclusions and\\r\\nsurface treatments, and other observed details made by Smith during the week of\\r\\nFebruary 24-28, 2020 at The Ringling Museum of Art.</p><p>Provenance: Excavated by James R. B. Stewart in 1961,\\r\\nUniversity of Sydney; donated by Eve Stewart to Florida State University 1973;\\r\\ndonated by Florida State University 1973; 1974 accessioned by The John and\\r\\nMable Ringling Museum of Art. SN74.11</p><p>Classified\\r\\nin Webb et al. 2009 as Red Polished I.</p>                                                            1\n",
       "<p>Acknowledgements: This entry was created by Smith using\\r\\ninformation in Webb et al. 2009 (which drew on a previous unpublished study by\\r\\nHerscher,&nbsp;which informed an exhibition, see catalogue: Kershaw ed. 1983) and measurements, color readings, observations of inclusions and\\r\\nsurface treatments, and other observed details made by Smith during the week of\\r\\nFebruary 24-28, 2020 at The Ringling Museum of Art.</p><p>Provenance: Excavated by James R. B. Stewart in 1961,\\r\\nUniversity of Sydney; donated by Eve Stewart to Florida State University 1973;\\r\\ndonated by Florida State University 1973; 1974 accessioned by The John and\\r\\nMable Ringling Museum of Art. SN74.10</p><p>Classified\\r\\nin Webb et al. 2009 as Red Polished II.</p>                                                           1\n",
       "<p>Acknowledgements:\\r\\nThis entry was\\r\\ncreated by Smith using information in Webb et al. 2009 (which drew on a previous\\r\\nunpublished study by Herscher,&nbsp;which informed an exhibition, see catalogue: Kershaw ed. 1983) and measurements, color readings, observations of inclusions and surface treatments, and other observed details made by Smith during\\r\\nthe week of February 24-28, 2020 at The Ringling Museum of Art.</p><p>Provenance:&nbsp;Excavated\\r\\nby James R. B. Stewart in 1961, University of Sydney; donated by Eve Stewart to\\r\\nFlorida State University 1973; donated by Florida State University 1973; 1974\\r\\naccessioned by The John and Mable Ringling Museum of Art. SN74.2</p><p>Classified in Webb et al. 2009 as Red Polished I-II.</p>                                                        1\n",
       "<p>Marbled skyphoi from Sardis typically come in the form of deep bowls with a conical foot and have vertical paint on the inside and outside (G&uuml;rtekin Demir 2007, 52).</p>                                                                                                                                                                                                                                                                                                                                                                                                                                                                                                                                                                                                                                                       1\n",
       "Name: acknowledgement, Length: 1587, dtype: int64"
      ]
     },
     "execution_count": 52,
     "metadata": {},
     "output_type": "execute_result"
    }
   ],
   "source": [
    "df['acknowledgement'].value_counts()"
   ]
  },
  {
   "cell_type": "code",
   "execution_count": 53,
   "id": "ca295f31",
   "metadata": {
    "hidden": true
   },
   "outputs": [
    {
     "data": {
      "text/plain": [
       "['shape_sub_group',\n",
       " 'shape_rtype',\n",
       " 'arch_context',\n",
       " 'petrofab_visual_desc',\n",
       " 'acknowledgement']"
      ]
     },
     "execution_count": 53,
     "metadata": {},
     "output_type": "execute_result"
    }
   ],
   "source": [
    "# Can't do much with this column.\n",
    "cols_to_drop.append('acknowledgement')\n",
    "cols_to_drop"
   ]
  },
  {
   "cell_type": "markdown",
   "id": "76ac5567",
   "metadata": {
    "heading_collapsed": true
   },
   "source": [
    "### Clean the old_shape_name column"
   ]
  },
  {
   "cell_type": "code",
   "execution_count": 54,
   "id": "11f89ed8",
   "metadata": {
    "hidden": true
   },
   "outputs": [
    {
     "data": {
      "text/plain": [
       "Bowl                       1350\n",
       "Jar                         944\n",
       "Cooking pot                 622\n",
       "Amphora                     533\n",
       "Plate                       515\n",
       "Bowl, small                 491\n",
       "Jug                         389\n",
       "Storage jar                 296\n",
       "Krater                      247\n",
       "Casserole                   184\n",
       "Pitcher                     171\n",
       "Lid                         145\n",
       "Lamp                        139\n",
       "Juglet                      125\n",
       "Beaker                      113\n",
       "Stand                       108\n",
       "Cup                          97\n",
       "Grinding bowl/mortarium      78\n",
       "Casserole/caccabé            67\n",
       "Pithos                       64\n",
       "Basin                        55\n",
       "Tobacco pipe                 48\n",
       "Flask                        47\n",
       "Saucer                       45\n",
       "Platter                      44\n",
       "Bottle                       43\n",
       "Unguentarium                 40\n",
       "Dish                         40\n",
       "Amphoriskos                  36\n",
       "Cooking  pot                 35\n",
       "Name: old_shape_name, dtype: int64"
      ]
     },
     "execution_count": 54,
     "metadata": {},
     "output_type": "execute_result"
    }
   ],
   "source": [
    "df['old_shape_name'].value_counts().head(30)"
   ]
  },
  {
   "cell_type": "markdown",
   "id": "e7f3e038",
   "metadata": {
    "hidden": true
   },
   "source": [
    "> We'll come back and work on condensing the labels here."
   ]
  },
  {
   "cell_type": "markdown",
   "id": "5580825d",
   "metadata": {},
   "source": [
    "### Clean the has_petrography column"
   ]
  },
  {
   "cell_type": "code",
   "execution_count": 55,
   "id": "9dfde4a2",
   "metadata": {},
   "outputs": [
    {
     "data": {
      "text/plain": [
       "False    11224\n",
       "True      5493\n",
       "Name: has_petrography, dtype: int64"
      ]
     },
     "execution_count": 55,
     "metadata": {},
     "output_type": "execute_result"
    }
   ],
   "source": [
    "df['has_petrography'].value_counts()"
   ]
  },
  {
   "cell_type": "markdown",
   "id": "7c9f829d",
   "metadata": {},
   "source": [
    "> Nothing to do in this column."
   ]
  },
  {
   "cell_type": "code",
   "execution_count": null,
   "id": "d05c05a6",
   "metadata": {},
   "outputs": [],
   "source": []
  }
 ],
 "metadata": {
  "kernelspec": {
   "display_name": "Python 3 (ipykernel)",
   "language": "python",
   "name": "python3"
  },
  "language_info": {
   "codemirror_mode": {
    "name": "ipython",
    "version": 3
   },
   "file_extension": ".py",
   "mimetype": "text/x-python",
   "name": "python",
   "nbconvert_exporter": "python",
   "pygments_lexer": "ipython3",
   "version": "3.9.12"
  },
  "toc": {
   "base_numbering": 1,
   "nav_menu": {},
   "number_sections": false,
   "sideBar": true,
   "skip_h1_title": false,
   "title_cell": "Table of Contents",
   "title_sidebar": "Contents",
   "toc_cell": false,
   "toc_position": {},
   "toc_section_display": true,
   "toc_window_display": false
  }
 },
 "nbformat": 4,
 "nbformat_minor": 5
}
